{
 "cells": [
  {
   "cell_type": "markdown",
   "metadata": {},
   "source": [
    "# Machine Learning: K supercomputer double perovskite dataset\n",
    "\n",
    "### Part 1: Data Processing\n",
    "This notebook follows from a lecture given at Cal State LA from the weeks of May 20 to May 24, 2019.\n",
    "\n",
    "Here is the plan: I have an Excel file containing the chemical formulae of double perovskite materials, as well as their bandgaps, calculated via an accurate method (HSE hybrid functional with spin-orbit coupling).\n",
    "\n",
    "Each compound is a 'double perovskite', with a chemical composition of the form $A_2 BB' X_6$, where $A$ is either a polyatomic ion or an alkali metal, $B$ is some atom, and $X$ is a halogen.\n",
    "\n",
    "I will use regular expressions to extract the specific atoms that make up the $A$, $B$, $B'$, and $X$ sites for each double perovskite, and generate atomic features. Then, I will use a machine learning algorithm to predict the band gap using atomic features.\n",
    "\n",
    "Tha data set is downloaded from https://pubs.acs.org/doi/10.1021/acs.jpclett.7b02203\n",
    "\n",
    "The first step is to import numpy (for numerical operations), pandas (for handling data frames), and pymatgen, which contains atomic data."
   ]
  },
  {
   "cell_type": "code",
   "execution_count": 1,
   "metadata": {},
   "outputs": [],
   "source": [
    "import pandas as pd\n",
    "import numpy as np\n",
    "from pymatgen.core.periodic_table import Element\n",
    "%matplotlib inline"
   ]
  },
  {
   "cell_type": "code",
   "execution_count": 2,
   "metadata": {},
   "outputs": [],
   "source": [
    "df = pd.read_excel('jz7b02203_si_002.xlsx')"
   ]
  },
  {
   "cell_type": "markdown",
   "metadata": {},
   "source": [
    "Let's save it to a pkl file. This file will be a binary file, and considerably faster to load than the xlsx file, if you wish to re-run this notebook again."
   ]
  },
  {
   "cell_type": "code",
   "execution_count": 3,
   "metadata": {},
   "outputs": [],
   "source": [
    "df.to_pickle('df.pkl')"
   ]
  },
  {
   "cell_type": "code",
   "execution_count": 4,
   "metadata": {},
   "outputs": [
    {
     "data": {
      "text/html": [
       "<div>\n",
       "<style scoped>\n",
       "    .dataframe tbody tr th:only-of-type {\n",
       "        vertical-align: middle;\n",
       "    }\n",
       "\n",
       "    .dataframe tbody tr th {\n",
       "        vertical-align: top;\n",
       "    }\n",
       "\n",
       "    .dataframe thead th {\n",
       "        text-align: right;\n",
       "    }\n",
       "</style>\n",
       "<table border=\"1\" class=\"dataframe\">\n",
       "  <thead>\n",
       "    <tr style=\"text-align: right;\">\n",
       "      <th></th>\n",
       "      <th>System</th>\n",
       "      <th>TotEne_PBE_Smear</th>\n",
       "      <th>TotEne_PBE_Nonsmear</th>\n",
       "      <th>TotEne_SOPBE</th>\n",
       "      <th>TotEne_SOHSE_Approx1</th>\n",
       "      <th>TotEne_SOHSE_Approx2</th>\n",
       "      <th>TotEne_SOHSE_Approx</th>\n",
       "      <th>DirectGap_PBE</th>\n",
       "      <th>DirectGap_SOPBE</th>\n",
       "      <th>DirectGap_SOHSE_Approx1</th>\n",
       "      <th>...</th>\n",
       "      <th>Ev_SOHSE_Approx1</th>\n",
       "      <th>Ev_SOHSE_Approx2</th>\n",
       "      <th>Ev_SOHSE_Approx</th>\n",
       "      <th>Ec_SOHSE_Approx1</th>\n",
       "      <th>Ec_SOHSE_Approx2</th>\n",
       "      <th>Ec_SOHSE_Approx</th>\n",
       "      <th>Mass_VBM</th>\n",
       "      <th>Mass_CBM</th>\n",
       "      <th>perovskite</th>\n",
       "      <th>nontoxicity</th>\n",
       "    </tr>\n",
       "  </thead>\n",
       "  <tbody>\n",
       "    <tr>\n",
       "      <td>0</td>\n",
       "      <td>C4N4H24Be4I12</td>\n",
       "      <td>-207.385597</td>\n",
       "      <td>-207.384168</td>\n",
       "      <td>NaN</td>\n",
       "      <td>NaN</td>\n",
       "      <td>NaN</td>\n",
       "      <td>NaN</td>\n",
       "      <td>4.307587</td>\n",
       "      <td>NaN</td>\n",
       "      <td>NaN</td>\n",
       "      <td>...</td>\n",
       "      <td>NaN</td>\n",
       "      <td>NaN</td>\n",
       "      <td>NaN</td>\n",
       "      <td>NaN</td>\n",
       "      <td>NaN</td>\n",
       "      <td>NaN</td>\n",
       "      <td>2.2336</td>\n",
       "      <td>-0.7022</td>\n",
       "      <td>No</td>\n",
       "      <td>Yes</td>\n",
       "    </tr>\n",
       "    <tr>\n",
       "      <td>1</td>\n",
       "      <td>C4N4H24B4I12</td>\n",
       "      <td>-210.442946</td>\n",
       "      <td>-210.832772</td>\n",
       "      <td>-212.426721</td>\n",
       "      <td>-291.679667</td>\n",
       "      <td>-291.748642</td>\n",
       "      <td>-291.748642</td>\n",
       "      <td>1.957007</td>\n",
       "      <td>1.829610</td>\n",
       "      <td>3.180325</td>\n",
       "      <td>...</td>\n",
       "      <td>-6.328621</td>\n",
       "      <td>-6.344494</td>\n",
       "      <td>-6.344494</td>\n",
       "      <td>-3.180668</td>\n",
       "      <td>-3.164795</td>\n",
       "      <td>-3.164795</td>\n",
       "      <td>3.3445</td>\n",
       "      <td>-43.1810</td>\n",
       "      <td>No</td>\n",
       "      <td>Yes</td>\n",
       "    </tr>\n",
       "    <tr>\n",
       "      <td>2</td>\n",
       "      <td>C4N4H24C4I12</td>\n",
       "      <td>-207.448155</td>\n",
       "      <td>-207.445549</td>\n",
       "      <td>-209.150007</td>\n",
       "      <td>-292.435476</td>\n",
       "      <td>-292.514091</td>\n",
       "      <td>-292.514091</td>\n",
       "      <td>0.769122</td>\n",
       "      <td>0.695907</td>\n",
       "      <td>1.840094</td>\n",
       "      <td>...</td>\n",
       "      <td>-5.889648</td>\n",
       "      <td>-5.890998</td>\n",
       "      <td>-5.890998</td>\n",
       "      <td>-4.049554</td>\n",
       "      <td>-4.048204</td>\n",
       "      <td>-4.048204</td>\n",
       "      <td>2.1819</td>\n",
       "      <td>-0.5658</td>\n",
       "      <td>No</td>\n",
       "      <td>Yes</td>\n",
       "    </tr>\n",
       "    <tr>\n",
       "      <td>3</td>\n",
       "      <td>C4N4H24N4I12</td>\n",
       "      <td>-206.031947</td>\n",
       "      <td>-206.276663</td>\n",
       "      <td>-208.090457</td>\n",
       "      <td>-295.760101</td>\n",
       "      <td>-295.822950</td>\n",
       "      <td>-295.822950</td>\n",
       "      <td>1.067985</td>\n",
       "      <td>1.003489</td>\n",
       "      <td>2.382841</td>\n",
       "      <td>...</td>\n",
       "      <td>-6.217354</td>\n",
       "      <td>-6.219469</td>\n",
       "      <td>-6.219469</td>\n",
       "      <td>-3.899306</td>\n",
       "      <td>-3.897190</td>\n",
       "      <td>-3.897190</td>\n",
       "      <td>2.9718</td>\n",
       "      <td>-7.5010</td>\n",
       "      <td>No</td>\n",
       "      <td>Yes</td>\n",
       "    </tr>\n",
       "    <tr>\n",
       "      <td>4</td>\n",
       "      <td>C4N4H24Mg4I12</td>\n",
       "      <td>-203.355980</td>\n",
       "      <td>-203.353890</td>\n",
       "      <td>-204.897868</td>\n",
       "      <td>-281.359832</td>\n",
       "      <td>-281.435270</td>\n",
       "      <td>-281.435270</td>\n",
       "      <td>1.774819</td>\n",
       "      <td>1.606697</td>\n",
       "      <td>2.878062</td>\n",
       "      <td>...</td>\n",
       "      <td>-6.118930</td>\n",
       "      <td>-6.129990</td>\n",
       "      <td>-6.129990</td>\n",
       "      <td>-3.240868</td>\n",
       "      <td>-3.229808</td>\n",
       "      <td>-3.229808</td>\n",
       "      <td>1.3698</td>\n",
       "      <td>-0.3258</td>\n",
       "      <td>Yes</td>\n",
       "      <td>Yes</td>\n",
       "    </tr>\n",
       "  </tbody>\n",
       "</table>\n",
       "<p>5 rows × 37 columns</p>\n",
       "</div>"
      ],
      "text/plain": [
       "          System  TotEne_PBE_Smear  TotEne_PBE_Nonsmear  TotEne_SOPBE  \\\n",
       "0  C4N4H24Be4I12       -207.385597          -207.384168           NaN   \n",
       "1   C4N4H24B4I12       -210.442946          -210.832772   -212.426721   \n",
       "2   C4N4H24C4I12       -207.448155          -207.445549   -209.150007   \n",
       "3   C4N4H24N4I12       -206.031947          -206.276663   -208.090457   \n",
       "4  C4N4H24Mg4I12       -203.355980          -203.353890   -204.897868   \n",
       "\n",
       "   TotEne_SOHSE_Approx1  TotEne_SOHSE_Approx2  TotEne_SOHSE_Approx  \\\n",
       "0                   NaN                   NaN                  NaN   \n",
       "1           -291.679667           -291.748642          -291.748642   \n",
       "2           -292.435476           -292.514091          -292.514091   \n",
       "3           -295.760101           -295.822950          -295.822950   \n",
       "4           -281.359832           -281.435270          -281.435270   \n",
       "\n",
       "   DirectGap_PBE  DirectGap_SOPBE  DirectGap_SOHSE_Approx1  ...  \\\n",
       "0       4.307587              NaN                      NaN  ...   \n",
       "1       1.957007         1.829610                 3.180325  ...   \n",
       "2       0.769122         0.695907                 1.840094  ...   \n",
       "3       1.067985         1.003489                 2.382841  ...   \n",
       "4       1.774819         1.606697                 2.878062  ...   \n",
       "\n",
       "   Ev_SOHSE_Approx1  Ev_SOHSE_Approx2  Ev_SOHSE_Approx  Ec_SOHSE_Approx1  \\\n",
       "0               NaN               NaN              NaN               NaN   \n",
       "1         -6.328621         -6.344494        -6.344494         -3.180668   \n",
       "2         -5.889648         -5.890998        -5.890998         -4.049554   \n",
       "3         -6.217354         -6.219469        -6.219469         -3.899306   \n",
       "4         -6.118930         -6.129990        -6.129990         -3.240868   \n",
       "\n",
       "   Ec_SOHSE_Approx2  Ec_SOHSE_Approx  Mass_VBM  Mass_CBM  perovskite  \\\n",
       "0               NaN              NaN    2.2336   -0.7022          No   \n",
       "1         -3.164795        -3.164795    3.3445  -43.1810          No   \n",
       "2         -4.048204        -4.048204    2.1819   -0.5658          No   \n",
       "3         -3.897190        -3.897190    2.9718   -7.5010          No   \n",
       "4         -3.229808        -3.229808    1.3698   -0.3258         Yes   \n",
       "\n",
       "   nontoxicity  \n",
       "0          Yes  \n",
       "1          Yes  \n",
       "2          Yes  \n",
       "3          Yes  \n",
       "4          Yes  \n",
       "\n",
       "[5 rows x 37 columns]"
      ]
     },
     "execution_count": 4,
     "metadata": {},
     "output_type": "execute_result"
    }
   ],
   "source": [
    "df.head()"
   ]
  },
  {
   "cell_type": "code",
   "execution_count": 5,
   "metadata": {},
   "outputs": [
    {
     "data": {
      "text/html": [
       "<div>\n",
       "<style scoped>\n",
       "    .dataframe tbody tr th:only-of-type {\n",
       "        vertical-align: middle;\n",
       "    }\n",
       "\n",
       "    .dataframe tbody tr th {\n",
       "        vertical-align: top;\n",
       "    }\n",
       "\n",
       "    .dataframe thead th {\n",
       "        text-align: right;\n",
       "    }\n",
       "</style>\n",
       "<table border=\"1\" class=\"dataframe\">\n",
       "  <thead>\n",
       "    <tr style=\"text-align: right;\">\n",
       "      <th></th>\n",
       "      <th>System</th>\n",
       "      <th>TotEne_PBE_Smear</th>\n",
       "      <th>TotEne_PBE_Nonsmear</th>\n",
       "      <th>TotEne_SOPBE</th>\n",
       "      <th>TotEne_SOHSE_Approx1</th>\n",
       "      <th>TotEne_SOHSE_Approx2</th>\n",
       "      <th>TotEne_SOHSE_Approx</th>\n",
       "      <th>DirectGap_PBE</th>\n",
       "      <th>DirectGap_SOPBE</th>\n",
       "      <th>DirectGap_SOHSE_Approx1</th>\n",
       "      <th>...</th>\n",
       "      <th>Ev_SOHSE_Approx1</th>\n",
       "      <th>Ev_SOHSE_Approx2</th>\n",
       "      <th>Ev_SOHSE_Approx</th>\n",
       "      <th>Ec_SOHSE_Approx1</th>\n",
       "      <th>Ec_SOHSE_Approx2</th>\n",
       "      <th>Ec_SOHSE_Approx</th>\n",
       "      <th>Mass_VBM</th>\n",
       "      <th>Mass_CBM</th>\n",
       "      <th>perovskite</th>\n",
       "      <th>nontoxicity</th>\n",
       "    </tr>\n",
       "  </thead>\n",
       "  <tbody>\n",
       "    <tr>\n",
       "      <td>11020</td>\n",
       "      <td>Cs4Hg2Pb2Cl12</td>\n",
       "      <td>-64.830507</td>\n",
       "      <td>-64.677965</td>\n",
       "      <td>-66.024060</td>\n",
       "      <td>-119.383818</td>\n",
       "      <td>-119.811363</td>\n",
       "      <td>-119.811363</td>\n",
       "      <td>2.128673</td>\n",
       "      <td>2.041891</td>\n",
       "      <td>3.317036</td>\n",
       "      <td>...</td>\n",
       "      <td>-6.493482</td>\n",
       "      <td>-6.604364</td>\n",
       "      <td>-6.604364</td>\n",
       "      <td>-4.078386</td>\n",
       "      <td>-3.967504</td>\n",
       "      <td>-3.967504</td>\n",
       "      <td>0.5089</td>\n",
       "      <td>-0.2990</td>\n",
       "      <td>Yes</td>\n",
       "      <td>No</td>\n",
       "    </tr>\n",
       "    <tr>\n",
       "      <td>11021</td>\n",
       "      <td>Cs4Hg2Tl2Cl12</td>\n",
       "      <td>-60.418179</td>\n",
       "      <td>NaN</td>\n",
       "      <td>NaN</td>\n",
       "      <td>NaN</td>\n",
       "      <td>NaN</td>\n",
       "      <td>NaN</td>\n",
       "      <td>0.000000</td>\n",
       "      <td>NaN</td>\n",
       "      <td>NaN</td>\n",
       "      <td>...</td>\n",
       "      <td>NaN</td>\n",
       "      <td>NaN</td>\n",
       "      <td>NaN</td>\n",
       "      <td>NaN</td>\n",
       "      <td>NaN</td>\n",
       "      <td>NaN</td>\n",
       "      <td>NaN</td>\n",
       "      <td>NaN</td>\n",
       "      <td>Yes</td>\n",
       "      <td>No</td>\n",
       "    </tr>\n",
       "    <tr>\n",
       "      <td>11022</td>\n",
       "      <td>Cs4Tl2Bi2Cl12</td>\n",
       "      <td>-71.438912</td>\n",
       "      <td>-71.195789</td>\n",
       "      <td>-72.535615</td>\n",
       "      <td>-124.555184</td>\n",
       "      <td>-124.712130</td>\n",
       "      <td>-124.712130</td>\n",
       "      <td>1.912991</td>\n",
       "      <td>0.815462</td>\n",
       "      <td>2.005946</td>\n",
       "      <td>...</td>\n",
       "      <td>-6.155114</td>\n",
       "      <td>-6.158749</td>\n",
       "      <td>-6.158749</td>\n",
       "      <td>-4.149168</td>\n",
       "      <td>-4.145534</td>\n",
       "      <td>-4.145534</td>\n",
       "      <td>0.2150</td>\n",
       "      <td>-0.3949</td>\n",
       "      <td>Yes</td>\n",
       "      <td>No</td>\n",
       "    </tr>\n",
       "    <tr>\n",
       "      <td>11023</td>\n",
       "      <td>Cs4Tl2Pb2Cl12</td>\n",
       "      <td>-69.551930</td>\n",
       "      <td>NaN</td>\n",
       "      <td>NaN</td>\n",
       "      <td>NaN</td>\n",
       "      <td>NaN</td>\n",
       "      <td>NaN</td>\n",
       "      <td>0.000000</td>\n",
       "      <td>NaN</td>\n",
       "      <td>NaN</td>\n",
       "      <td>...</td>\n",
       "      <td>NaN</td>\n",
       "      <td>NaN</td>\n",
       "      <td>NaN</td>\n",
       "      <td>NaN</td>\n",
       "      <td>NaN</td>\n",
       "      <td>NaN</td>\n",
       "      <td>NaN</td>\n",
       "      <td>NaN</td>\n",
       "      <td>Yes</td>\n",
       "      <td>No</td>\n",
       "    </tr>\n",
       "    <tr>\n",
       "      <td>11024</td>\n",
       "      <td>Cs4Pb2Bi2Cl12</td>\n",
       "      <td>-71.608804</td>\n",
       "      <td>NaN</td>\n",
       "      <td>NaN</td>\n",
       "      <td>NaN</td>\n",
       "      <td>NaN</td>\n",
       "      <td>NaN</td>\n",
       "      <td>0.000000</td>\n",
       "      <td>NaN</td>\n",
       "      <td>NaN</td>\n",
       "      <td>...</td>\n",
       "      <td>NaN</td>\n",
       "      <td>NaN</td>\n",
       "      <td>NaN</td>\n",
       "      <td>NaN</td>\n",
       "      <td>NaN</td>\n",
       "      <td>NaN</td>\n",
       "      <td>NaN</td>\n",
       "      <td>NaN</td>\n",
       "      <td>Yes</td>\n",
       "      <td>No</td>\n",
       "    </tr>\n",
       "  </tbody>\n",
       "</table>\n",
       "<p>5 rows × 37 columns</p>\n",
       "</div>"
      ],
      "text/plain": [
       "              System  TotEne_PBE_Smear  TotEne_PBE_Nonsmear  TotEne_SOPBE  \\\n",
       "11020  Cs4Hg2Pb2Cl12        -64.830507           -64.677965    -66.024060   \n",
       "11021  Cs4Hg2Tl2Cl12        -60.418179                  NaN           NaN   \n",
       "11022  Cs4Tl2Bi2Cl12        -71.438912           -71.195789    -72.535615   \n",
       "11023  Cs4Tl2Pb2Cl12        -69.551930                  NaN           NaN   \n",
       "11024  Cs4Pb2Bi2Cl12        -71.608804                  NaN           NaN   \n",
       "\n",
       "       TotEne_SOHSE_Approx1  TotEne_SOHSE_Approx2  TotEne_SOHSE_Approx  \\\n",
       "11020           -119.383818           -119.811363          -119.811363   \n",
       "11021                   NaN                   NaN                  NaN   \n",
       "11022           -124.555184           -124.712130          -124.712130   \n",
       "11023                   NaN                   NaN                  NaN   \n",
       "11024                   NaN                   NaN                  NaN   \n",
       "\n",
       "       DirectGap_PBE  DirectGap_SOPBE  DirectGap_SOHSE_Approx1  ...  \\\n",
       "11020       2.128673         2.041891                 3.317036  ...   \n",
       "11021       0.000000              NaN                      NaN  ...   \n",
       "11022       1.912991         0.815462                 2.005946  ...   \n",
       "11023       0.000000              NaN                      NaN  ...   \n",
       "11024       0.000000              NaN                      NaN  ...   \n",
       "\n",
       "       Ev_SOHSE_Approx1  Ev_SOHSE_Approx2  Ev_SOHSE_Approx  Ec_SOHSE_Approx1  \\\n",
       "11020         -6.493482         -6.604364        -6.604364         -4.078386   \n",
       "11021               NaN               NaN              NaN               NaN   \n",
       "11022         -6.155114         -6.158749        -6.158749         -4.149168   \n",
       "11023               NaN               NaN              NaN               NaN   \n",
       "11024               NaN               NaN              NaN               NaN   \n",
       "\n",
       "       Ec_SOHSE_Approx2  Ec_SOHSE_Approx  Mass_VBM  Mass_CBM  perovskite  \\\n",
       "11020         -3.967504        -3.967504    0.5089   -0.2990         Yes   \n",
       "11021               NaN              NaN       NaN       NaN         Yes   \n",
       "11022         -4.145534        -4.145534    0.2150   -0.3949         Yes   \n",
       "11023               NaN              NaN       NaN       NaN         Yes   \n",
       "11024               NaN              NaN       NaN       NaN         Yes   \n",
       "\n",
       "       nontoxicity  \n",
       "11020           No  \n",
       "11021           No  \n",
       "11022           No  \n",
       "11023           No  \n",
       "11024           No  \n",
       "\n",
       "[5 rows x 37 columns]"
      ]
     },
     "execution_count": 5,
     "metadata": {},
     "output_type": "execute_result"
    }
   ],
   "source": [
    "df.tail()"
   ]
  },
  {
   "cell_type": "markdown",
   "metadata": {},
   "source": [
    "We can see both the compounds of the form $A_4 B_4 X_{12}$ and $A_4 B_2 B'_2 X_{12}$.\n",
    "\n",
    "We only care about the chemical formulae (System) and the bandgap (LowGap_SOHSE_Approx). So, let's remove the unnecessary columns:"
   ]
  },
  {
   "cell_type": "code",
   "execution_count": 6,
   "metadata": {},
   "outputs": [],
   "source": [
    "df = df[['System', 'LowGap_SOHSE_Approx']]"
   ]
  },
  {
   "cell_type": "code",
   "execution_count": 7,
   "metadata": {},
   "outputs": [
    {
     "data": {
      "text/plain": [
       "System                    0\n",
       "LowGap_SOHSE_Approx    9102\n",
       "dtype: int64"
      ]
     },
     "execution_count": 7,
     "metadata": {},
     "output_type": "execute_result"
    }
   ],
   "source": [
    "df.isnull().sum()"
   ]
  },
  {
   "cell_type": "code",
   "execution_count": 8,
   "metadata": {},
   "outputs": [
    {
     "data": {
      "text/html": [
       "<div>\n",
       "<style scoped>\n",
       "    .dataframe tbody tr th:only-of-type {\n",
       "        vertical-align: middle;\n",
       "    }\n",
       "\n",
       "    .dataframe tbody tr th {\n",
       "        vertical-align: top;\n",
       "    }\n",
       "\n",
       "    .dataframe thead th {\n",
       "        text-align: right;\n",
       "    }\n",
       "</style>\n",
       "<table border=\"1\" class=\"dataframe\">\n",
       "  <thead>\n",
       "    <tr style=\"text-align: right;\">\n",
       "      <th></th>\n",
       "      <th>LowGap_SOHSE_Approx</th>\n",
       "    </tr>\n",
       "  </thead>\n",
       "  <tbody>\n",
       "    <tr>\n",
       "      <td>count</td>\n",
       "      <td>1923.000000</td>\n",
       "    </tr>\n",
       "    <tr>\n",
       "      <td>mean</td>\n",
       "      <td>2.914283</td>\n",
       "    </tr>\n",
       "    <tr>\n",
       "      <td>std</td>\n",
       "      <td>0.972486</td>\n",
       "    </tr>\n",
       "    <tr>\n",
       "      <td>min</td>\n",
       "      <td>-0.418709</td>\n",
       "    </tr>\n",
       "    <tr>\n",
       "      <td>25%</td>\n",
       "      <td>2.172608</td>\n",
       "    </tr>\n",
       "    <tr>\n",
       "      <td>50%</td>\n",
       "      <td>2.845078</td>\n",
       "    </tr>\n",
       "    <tr>\n",
       "      <td>75%</td>\n",
       "      <td>3.582940</td>\n",
       "    </tr>\n",
       "    <tr>\n",
       "      <td>max</td>\n",
       "      <td>5.730866</td>\n",
       "    </tr>\n",
       "  </tbody>\n",
       "</table>\n",
       "</div>"
      ],
      "text/plain": [
       "       LowGap_SOHSE_Approx\n",
       "count          1923.000000\n",
       "mean              2.914283\n",
       "std               0.972486\n",
       "min              -0.418709\n",
       "25%               2.172608\n",
       "50%               2.845078\n",
       "75%               3.582940\n",
       "max               5.730866"
      ]
     },
     "execution_count": 8,
     "metadata": {},
     "output_type": "execute_result"
    }
   ],
   "source": [
    "df.describe()"
   ]
  },
  {
   "cell_type": "markdown",
   "metadata": {},
   "source": [
    "Looks like there are more than 80% NaN values and few negative values for bandgap. Lets remove these values because negative bandgap value doesnot make any physical sense."
   ]
  },
  {
   "cell_type": "code",
   "execution_count": 9,
   "metadata": {},
   "outputs": [],
   "source": [
    "df = df.dropna()\n",
    "\n",
    "df = df[df['LowGap_SOHSE_Approx'] >= 0]"
   ]
  },
  {
   "cell_type": "code",
   "execution_count": 10,
   "metadata": {},
   "outputs": [
    {
     "data": {
      "text/plain": [
       "array([[<matplotlib.axes._subplots.AxesSubplot object at 0x000001AA337B4E08>]],\n",
       "      dtype=object)"
      ]
     },
     "execution_count": 10,
     "metadata": {},
     "output_type": "execute_result"
    },
    {
     "data": {
      "image/png": "[encoded data removed]",
      "text/plain": [
       "<Figure size 432x288 with 1 Axes>"
      ]
     },
     "metadata": {
      "needs_background": "light"
     },
     "output_type": "display_data"
    }
   ],
   "source": [
    "df.hist()"
   ]
  },
  {
   "cell_type": "markdown",
   "metadata": {},
   "source": [
    "Now let's extract $A$, $B$, $B'$, and the $X$ sites of perovskites.\n",
    "\n",
    "For the $A$ sites, there are three different types of ions: \n",
    "1. Methylammonium (C4N4H24)\n",
    "2. Formamidinium (C4N8H20)\n",
    "3. Caesium (Cs4)\n",
    "\n",
    "We can use a regular expresssion to match for any of these three atoms: C4N4H24|C4N8H20|Cs4.\n",
    "\n",
    "For convenience, we will rename the ions to abbreviated names (MA, FA, Cs). When the pandas.DataFrame.replace method takes in two strings, the first string is the string to replace, and the secon is the string that will be put in in place of the original string. inplace=True specifies that we wish to modify the object itself, rather than a copy."
   ]
  },
  {
   "cell_type": "code",
   "execution_count": 11,
   "metadata": {},
   "outputs": [
    {
     "data": {
      "text/html": [
       "<div>\n",
       "<style scoped>\n",
       "    .dataframe tbody tr th:only-of-type {\n",
       "        vertical-align: middle;\n",
       "    }\n",
       "\n",
       "    .dataframe tbody tr th {\n",
       "        vertical-align: top;\n",
       "    }\n",
       "\n",
       "    .dataframe thead th {\n",
       "        text-align: right;\n",
       "    }\n",
       "</style>\n",
       "<table border=\"1\" class=\"dataframe\">\n",
       "  <thead>\n",
       "    <tr style=\"text-align: right;\">\n",
       "      <th></th>\n",
       "      <th>0</th>\n",
       "    </tr>\n",
       "  </thead>\n",
       "  <tbody>\n",
       "    <tr>\n",
       "      <td>1</td>\n",
       "      <td>MA</td>\n",
       "    </tr>\n",
       "    <tr>\n",
       "      <td>2</td>\n",
       "      <td>MA</td>\n",
       "    </tr>\n",
       "    <tr>\n",
       "      <td>3</td>\n",
       "      <td>MA</td>\n",
       "    </tr>\n",
       "    <tr>\n",
       "      <td>4</td>\n",
       "      <td>MA</td>\n",
       "    </tr>\n",
       "    <tr>\n",
       "      <td>5</td>\n",
       "      <td>MA</td>\n",
       "    </tr>\n",
       "  </tbody>\n",
       "</table>\n",
       "</div>"
      ],
      "text/plain": [
       "    0\n",
       "1  MA\n",
       "2  MA\n",
       "3  MA\n",
       "4  MA\n",
       "5  MA"
      ]
     },
     "execution_count": 11,
     "metadata": {},
     "output_type": "execute_result"
    }
   ],
   "source": [
    "a_sites = df['System'].str.extract(r'(C4N4H24|C4N8H20|Cs4)')\n",
    "\n",
    "a_sites.replace('C4N4H24', 'MA', inplace = True)\n",
    "a_sites.replace('C4N8H20', 'FA', inplace = True)\n",
    "a_sites.replace('Cs4', 'Cs', inplace = True)\n",
    "\n",
    "a_sites.head()"
   ]
  },
  {
   "cell_type": "markdown",
   "metadata": {},
   "source": [
    "Now save this a_sites into column of df."
   ]
  },
  {
   "cell_type": "code",
   "execution_count": 12,
   "metadata": {},
   "outputs": [],
   "source": [
    "df['A_sites'] = a_sites"
   ]
  },
  {
   "cell_type": "code",
   "execution_count": 13,
   "metadata": {},
   "outputs": [
    {
     "data": {
      "text/html": [
       "<div>\n",
       "<style scoped>\n",
       "    .dataframe tbody tr th:only-of-type {\n",
       "        vertical-align: middle;\n",
       "    }\n",
       "\n",
       "    .dataframe tbody tr th {\n",
       "        vertical-align: top;\n",
       "    }\n",
       "\n",
       "    .dataframe thead th {\n",
       "        text-align: right;\n",
       "    }\n",
       "</style>\n",
       "<table border=\"1\" class=\"dataframe\">\n",
       "  <thead>\n",
       "    <tr style=\"text-align: right;\">\n",
       "      <th></th>\n",
       "      <th>System</th>\n",
       "      <th>LowGap_SOHSE_Approx</th>\n",
       "      <th>A_sites</th>\n",
       "    </tr>\n",
       "  </thead>\n",
       "  <tbody>\n",
       "    <tr>\n",
       "      <td>1</td>\n",
       "      <td>C4N4H24B4I12</td>\n",
       "      <td>3.179699</td>\n",
       "      <td>MA</td>\n",
       "    </tr>\n",
       "    <tr>\n",
       "      <td>2</td>\n",
       "      <td>C4N4H24C4I12</td>\n",
       "      <td>1.842794</td>\n",
       "      <td>MA</td>\n",
       "    </tr>\n",
       "    <tr>\n",
       "      <td>3</td>\n",
       "      <td>C4N4H24N4I12</td>\n",
       "      <td>2.322279</td>\n",
       "      <td>MA</td>\n",
       "    </tr>\n",
       "    <tr>\n",
       "      <td>4</td>\n",
       "      <td>C4N4H24Mg4I12</td>\n",
       "      <td>2.900182</td>\n",
       "      <td>MA</td>\n",
       "    </tr>\n",
       "    <tr>\n",
       "      <td>5</td>\n",
       "      <td>C4N4H24Al4I12</td>\n",
       "      <td>2.038116</td>\n",
       "      <td>MA</td>\n",
       "    </tr>\n",
       "  </tbody>\n",
       "</table>\n",
       "</div>"
      ],
      "text/plain": [
       "          System  LowGap_SOHSE_Approx A_sites\n",
       "1   C4N4H24B4I12             3.179699      MA\n",
       "2   C4N4H24C4I12             1.842794      MA\n",
       "3   C4N4H24N4I12             2.322279      MA\n",
       "4  C4N4H24Mg4I12             2.900182      MA\n",
       "5  C4N4H24Al4I12             2.038116      MA"
      ]
     },
     "execution_count": 13,
     "metadata": {},
     "output_type": "execute_result"
    }
   ],
   "source": [
    "df.head()"
   ]
  },
  {
   "cell_type": "markdown",
   "metadata": {},
   "source": [
    "Similarly, we have to find the $B$ site.\n",
    "\n",
    "The problem is that we need to differentiate the compounds written as $A_4B_2B'_2X_{12}$ (which we will call true_dbls) with the compounds written as $A_4B_4X_{12}$ (which we call false_dbls).\n",
    "\n",
    "So let's plan to handle these two cases separately, and then join them into one data frame. "
   ]
  },
  {
   "cell_type": "markdown",
   "metadata": {},
   "source": [
    "What we need to do is see if there is a sequence of alphabetical characters, followed by a 2, followed by another sequence of alphabetical characters, followed by another 2. We can check for a group of alphabetical characters by using [a-zA-Z], and we can match for a sequence of characters by using +. We can use a lookahead (?=pattern) to check if pattern is ahead of this group of alphabetical characters. In this case, we'll check if there is a 2, followed by another [a-zA-Z]+ and then another 2.\n",
    "\n",
    "We will use .copy() to avoid modifying the original data frame."
   ]
  },
  {
   "cell_type": "code",
   "execution_count": 14,
   "metadata": {},
   "outputs": [
    {
     "data": {
      "text/html": [
       "<div>\n",
       "<style scoped>\n",
       "    .dataframe tbody tr th:only-of-type {\n",
       "        vertical-align: middle;\n",
       "    }\n",
       "\n",
       "    .dataframe tbody tr th {\n",
       "        vertical-align: top;\n",
       "    }\n",
       "\n",
       "    .dataframe thead th {\n",
       "        text-align: right;\n",
       "    }\n",
       "</style>\n",
       "<table border=\"1\" class=\"dataframe\">\n",
       "  <thead>\n",
       "    <tr style=\"text-align: right;\">\n",
       "      <th></th>\n",
       "      <th>System</th>\n",
       "      <th>LowGap_SOHSE_Approx</th>\n",
       "      <th>A_sites</th>\n",
       "    </tr>\n",
       "  </thead>\n",
       "  <tbody>\n",
       "    <tr>\n",
       "      <td>50</td>\n",
       "      <td>C4N4H24Be2Pb2I12</td>\n",
       "      <td>3.190090</td>\n",
       "      <td>MA</td>\n",
       "    </tr>\n",
       "    <tr>\n",
       "      <td>52</td>\n",
       "      <td>C4N4H24Be2Hg2I12</td>\n",
       "      <td>3.111010</td>\n",
       "      <td>MA</td>\n",
       "    </tr>\n",
       "    <tr>\n",
       "      <td>54</td>\n",
       "      <td>C4N4H24Be2Pt2I12</td>\n",
       "      <td>2.524556</td>\n",
       "      <td>MA</td>\n",
       "    </tr>\n",
       "    <tr>\n",
       "      <td>60</td>\n",
       "      <td>C4N4H24Be2Hf2I12</td>\n",
       "      <td>3.055102</td>\n",
       "      <td>MA</td>\n",
       "    </tr>\n",
       "    <tr>\n",
       "      <td>61</td>\n",
       "      <td>C4N4H24Be2Ba2I12</td>\n",
       "      <td>4.566838</td>\n",
       "      <td>MA</td>\n",
       "    </tr>\n",
       "  </tbody>\n",
       "</table>\n",
       "</div>"
      ],
      "text/plain": [
       "              System  LowGap_SOHSE_Approx A_sites\n",
       "50  C4N4H24Be2Pb2I12             3.190090      MA\n",
       "52  C4N4H24Be2Hg2I12             3.111010      MA\n",
       "54  C4N4H24Be2Pt2I12             2.524556      MA\n",
       "60  C4N4H24Be2Hf2I12             3.055102      MA\n",
       "61  C4N4H24Be2Ba2I12             4.566838      MA"
      ]
     },
     "execution_count": 14,
     "metadata": {},
     "output_type": "execute_result"
    }
   ],
   "source": [
    "true_dbls = df[df['System'].str.contains(r'[a-zA-Z]+(?=2[a-zA-Z]+2)')].copy()\n",
    "true_dbls.head()"
   ]
  },
  {
   "cell_type": "code",
   "execution_count": 15,
   "metadata": {},
   "outputs": [
    {
     "data": {
      "text/html": [
       "<div>\n",
       "<style scoped>\n",
       "    .dataframe tbody tr th:only-of-type {\n",
       "        vertical-align: middle;\n",
       "    }\n",
       "\n",
       "    .dataframe tbody tr th {\n",
       "        vertical-align: top;\n",
       "    }\n",
       "\n",
       "    .dataframe thead th {\n",
       "        text-align: right;\n",
       "    }\n",
       "</style>\n",
       "<table border=\"1\" class=\"dataframe\">\n",
       "  <thead>\n",
       "    <tr style=\"text-align: right;\">\n",
       "      <th></th>\n",
       "      <th>System</th>\n",
       "      <th>LowGap_SOHSE_Approx</th>\n",
       "      <th>A_sites</th>\n",
       "      <th>B_sites</th>\n",
       "      <th>B_prime_sites</th>\n",
       "    </tr>\n",
       "  </thead>\n",
       "  <tbody>\n",
       "    <tr>\n",
       "      <td>50</td>\n",
       "      <td>C4N4H24Be2Pb2I12</td>\n",
       "      <td>3.190090</td>\n",
       "      <td>MA</td>\n",
       "      <td>Be</td>\n",
       "      <td>Pb</td>\n",
       "    </tr>\n",
       "    <tr>\n",
       "      <td>52</td>\n",
       "      <td>C4N4H24Be2Hg2I12</td>\n",
       "      <td>3.111010</td>\n",
       "      <td>MA</td>\n",
       "      <td>Be</td>\n",
       "      <td>Hg</td>\n",
       "    </tr>\n",
       "    <tr>\n",
       "      <td>54</td>\n",
       "      <td>C4N4H24Be2Pt2I12</td>\n",
       "      <td>2.524556</td>\n",
       "      <td>MA</td>\n",
       "      <td>Be</td>\n",
       "      <td>Pt</td>\n",
       "    </tr>\n",
       "    <tr>\n",
       "      <td>60</td>\n",
       "      <td>C4N4H24Be2Hf2I12</td>\n",
       "      <td>3.055102</td>\n",
       "      <td>MA</td>\n",
       "      <td>Be</td>\n",
       "      <td>Hf</td>\n",
       "    </tr>\n",
       "    <tr>\n",
       "      <td>61</td>\n",
       "      <td>C4N4H24Be2Ba2I12</td>\n",
       "      <td>4.566838</td>\n",
       "      <td>MA</td>\n",
       "      <td>Be</td>\n",
       "      <td>Ba</td>\n",
       "    </tr>\n",
       "  </tbody>\n",
       "</table>\n",
       "</div>"
      ],
      "text/plain": [
       "              System  LowGap_SOHSE_Approx A_sites B_sites B_prime_sites\n",
       "50  C4N4H24Be2Pb2I12             3.190090      MA      Be            Pb\n",
       "52  C4N4H24Be2Hg2I12             3.111010      MA      Be            Hg\n",
       "54  C4N4H24Be2Pt2I12             2.524556      MA      Be            Pt\n",
       "60  C4N4H24Be2Hf2I12             3.055102      MA      Be            Hf\n",
       "61  C4N4H24Be2Ba2I12             4.566838      MA      Be            Ba"
      ]
     },
     "execution_count": 15,
     "metadata": {},
     "output_type": "execute_result"
    }
   ],
   "source": [
    "# match a group of alphabetical chars followed by a 2, another group of alphabetical chars,\n",
    "# and then another 2\n",
    "b_sites = true_dbls['System'].str.extract(r'([a-zA-Z]+)(?=2[a-zA-Z]+2)')\n",
    "b_sites\n",
    "\n",
    "# match a group of alphabetical chars\n",
    "# followed by a 2, another group of alphabetical chars,\n",
    "# and then a 12\n",
    "b_prime_sites = true_dbls['System'].str.extract(r'([a-zA-Z]+)(?=2[a-zA-Z]+12)')\n",
    "b_prime_sites\n",
    "\n",
    "true_dbls['B_sites'] = b_sites\n",
    "true_dbls['B_prime_sites'] = b_prime_sites\n",
    "\n",
    "true_dbls.head()"
   ]
  },
  {
   "cell_type": "markdown",
   "metadata": {},
   "source": [
    "Since we know that here $B$ and $B'$ are the same. So, we can negate the condition for boolean indexing by using a ~. This will give us the false_dbls. "
   ]
  },
  {
   "cell_type": "code",
   "execution_count": 16,
   "metadata": {},
   "outputs": [
    {
     "data": {
      "text/html": [
       "<div>\n",
       "<style scoped>\n",
       "    .dataframe tbody tr th:only-of-type {\n",
       "        vertical-align: middle;\n",
       "    }\n",
       "\n",
       "    .dataframe tbody tr th {\n",
       "        vertical-align: top;\n",
       "    }\n",
       "\n",
       "    .dataframe thead th {\n",
       "        text-align: right;\n",
       "    }\n",
       "</style>\n",
       "<table border=\"1\" class=\"dataframe\">\n",
       "  <thead>\n",
       "    <tr style=\"text-align: right;\">\n",
       "      <th></th>\n",
       "      <th>System</th>\n",
       "      <th>LowGap_SOHSE_Approx</th>\n",
       "      <th>A_sites</th>\n",
       "      <th>B_sites</th>\n",
       "      <th>B_prime_sites</th>\n",
       "    </tr>\n",
       "  </thead>\n",
       "  <tbody>\n",
       "    <tr>\n",
       "      <td>1</td>\n",
       "      <td>C4N4H24B4I12</td>\n",
       "      <td>3.179699</td>\n",
       "      <td>MA</td>\n",
       "      <td>B</td>\n",
       "      <td>B</td>\n",
       "    </tr>\n",
       "    <tr>\n",
       "      <td>2</td>\n",
       "      <td>C4N4H24C4I12</td>\n",
       "      <td>1.842794</td>\n",
       "      <td>MA</td>\n",
       "      <td>C</td>\n",
       "      <td>C</td>\n",
       "    </tr>\n",
       "    <tr>\n",
       "      <td>3</td>\n",
       "      <td>C4N4H24N4I12</td>\n",
       "      <td>2.322279</td>\n",
       "      <td>MA</td>\n",
       "      <td>N</td>\n",
       "      <td>N</td>\n",
       "    </tr>\n",
       "    <tr>\n",
       "      <td>4</td>\n",
       "      <td>C4N4H24Mg4I12</td>\n",
       "      <td>2.900182</td>\n",
       "      <td>MA</td>\n",
       "      <td>Mg</td>\n",
       "      <td>Mg</td>\n",
       "    </tr>\n",
       "    <tr>\n",
       "      <td>5</td>\n",
       "      <td>C4N4H24Al4I12</td>\n",
       "      <td>2.038116</td>\n",
       "      <td>MA</td>\n",
       "      <td>Al</td>\n",
       "      <td>Al</td>\n",
       "    </tr>\n",
       "  </tbody>\n",
       "</table>\n",
       "</div>"
      ],
      "text/plain": [
       "          System  LowGap_SOHSE_Approx A_sites B_sites B_prime_sites\n",
       "1   C4N4H24B4I12             3.179699      MA       B             B\n",
       "2   C4N4H24C4I12             1.842794      MA       C             C\n",
       "3   C4N4H24N4I12             2.322279      MA       N             N\n",
       "4  C4N4H24Mg4I12             2.900182      MA      Mg            Mg\n",
       "5  C4N4H24Al4I12             2.038116      MA      Al            Al"
      ]
     },
     "execution_count": 16,
     "metadata": {},
     "output_type": "execute_result"
    }
   ],
   "source": [
    "false_dbls = df[~df['System'].str.contains(r'[a-zA-Z]+(?=2[a-zA-Z]+2)')].copy()\n",
    "\n",
    "b_sites = false_dbls['System'].str.extract(r'([a-zA-Z]+)(?=4[a-zA-Z]+12)')\n",
    "\n",
    "false_dbls['B_sites'] = b_sites\n",
    "false_dbls['B_prime_sites'] = b_sites\n",
    "\n",
    "false_dbls.head()"
   ]
  },
  {
   "cell_type": "markdown",
   "metadata": {},
   "source": [
    "Concatenate true_dbls with false_dbls, and use regular expressions to find a group of characters followed by a 12 (i. e., $X$ site)."
   ]
  },
  {
   "cell_type": "code",
   "execution_count": 17,
   "metadata": {},
   "outputs": [
    {
     "data": {
      "text/html": [
       "<div>\n",
       "<style scoped>\n",
       "    .dataframe tbody tr th:only-of-type {\n",
       "        vertical-align: middle;\n",
       "    }\n",
       "\n",
       "    .dataframe tbody tr th {\n",
       "        vertical-align: top;\n",
       "    }\n",
       "\n",
       "    .dataframe thead th {\n",
       "        text-align: right;\n",
       "    }\n",
       "</style>\n",
       "<table border=\"1\" class=\"dataframe\">\n",
       "  <thead>\n",
       "    <tr style=\"text-align: right;\">\n",
       "      <th></th>\n",
       "      <th>System</th>\n",
       "      <th>LowGap_SOHSE_Approx</th>\n",
       "      <th>A_sites</th>\n",
       "      <th>B_sites</th>\n",
       "      <th>B_prime_sites</th>\n",
       "      <th>X_sites</th>\n",
       "    </tr>\n",
       "  </thead>\n",
       "  <tbody>\n",
       "    <tr>\n",
       "      <td>50</td>\n",
       "      <td>C4N4H24Be2Pb2I12</td>\n",
       "      <td>3.190090</td>\n",
       "      <td>MA</td>\n",
       "      <td>Be</td>\n",
       "      <td>Pb</td>\n",
       "      <td>I</td>\n",
       "    </tr>\n",
       "    <tr>\n",
       "      <td>52</td>\n",
       "      <td>C4N4H24Be2Hg2I12</td>\n",
       "      <td>3.111010</td>\n",
       "      <td>MA</td>\n",
       "      <td>Be</td>\n",
       "      <td>Hg</td>\n",
       "      <td>I</td>\n",
       "    </tr>\n",
       "    <tr>\n",
       "      <td>54</td>\n",
       "      <td>C4N4H24Be2Pt2I12</td>\n",
       "      <td>2.524556</td>\n",
       "      <td>MA</td>\n",
       "      <td>Be</td>\n",
       "      <td>Pt</td>\n",
       "      <td>I</td>\n",
       "    </tr>\n",
       "    <tr>\n",
       "      <td>60</td>\n",
       "      <td>C4N4H24Be2Hf2I12</td>\n",
       "      <td>3.055102</td>\n",
       "      <td>MA</td>\n",
       "      <td>Be</td>\n",
       "      <td>Hf</td>\n",
       "      <td>I</td>\n",
       "    </tr>\n",
       "    <tr>\n",
       "      <td>61</td>\n",
       "      <td>C4N4H24Be2Ba2I12</td>\n",
       "      <td>4.566838</td>\n",
       "      <td>MA</td>\n",
       "      <td>Be</td>\n",
       "      <td>Ba</td>\n",
       "      <td>I</td>\n",
       "    </tr>\n",
       "  </tbody>\n",
       "</table>\n",
       "</div>"
      ],
      "text/plain": [
       "              System  LowGap_SOHSE_Approx A_sites B_sites B_prime_sites  \\\n",
       "50  C4N4H24Be2Pb2I12             3.190090      MA      Be            Pb   \n",
       "52  C4N4H24Be2Hg2I12             3.111010      MA      Be            Hg   \n",
       "54  C4N4H24Be2Pt2I12             2.524556      MA      Be            Pt   \n",
       "60  C4N4H24Be2Hf2I12             3.055102      MA      Be            Hf   \n",
       "61  C4N4H24Be2Ba2I12             4.566838      MA      Be            Ba   \n",
       "\n",
       "   X_sites  \n",
       "50       I  \n",
       "52       I  \n",
       "54       I  \n",
       "60       I  \n",
       "61       I  "
      ]
     },
     "execution_count": 17,
     "metadata": {},
     "output_type": "execute_result"
    }
   ],
   "source": [
    "df_new = pd.concat([true_dbls, false_dbls], sort=False)\n",
    "\n",
    "x_sites = df_new['System'].str.extract(r'([a-zA-Z]+)(?=12)')\n",
    "df_new['X_sites'] = x_sites\n",
    "\n",
    "df_new.head()"
   ]
  },
  {
   "cell_type": "markdown",
   "metadata": {},
   "source": [
    "Let's create a dictionary of ionic radii using pymatgen. Element.from_Z creates an Element object from atomic number, from which we can extract properties such as the ionic radius.\n",
    "\n",
    "For methylammonium and formamidinium, we will use results from a paper by Kieslich et al. (Chem. Sci. 2014, 5, 4712)."
   ]
  },
  {
   "cell_type": "code",
   "execution_count": 18,
   "metadata": {},
   "outputs": [],
   "source": [
    "IONIC_R_DICT = {Element.from_Z(i).symbol:\n",
    "                Element.from_Z(i).average_ionic_radius\n",
    "                for i in range(1, 93)}\n",
    "\n",
    "# Kieslich et al. Chem. Sci. 2014, 5, 4712\n",
    "IONIC_R_DICT['MA'] = 2.17\n",
    "IONIC_R_DICT['FA'] = 2.53"
   ]
  },
  {
   "cell_type": "markdown",
   "metadata": {},
   "source": [
    "Create similar dictionaries for electronegativity, boiling point and melting point. Note that for electronegativity, pymatgen uses the capital letter X (this is because electronegativity is sometimes written using the Greek letter $\\chi$ 'chi')."
   ]
  },
  {
   "cell_type": "code",
   "execution_count": 19,
   "metadata": {},
   "outputs": [
    {
     "name": "stderr",
     "output_type": "stream",
     "text": [
      "C:\\Users\\Amrit\\Anaconda3\\lib\\site-packages\\pymatgen\\core\\periodic_table.py:424: UserWarning: No electronegativity for He. Setting to NaN. This has no physical meaning, and is mainly done to avoid errors caused by the code expecting a float.\n",
      "  % self.symbol)\n",
      "C:\\Users\\Amrit\\Anaconda3\\lib\\site-packages\\pymatgen\\core\\periodic_table.py:424: UserWarning: No electronegativity for Ne. Setting to NaN. This has no physical meaning, and is mainly done to avoid errors caused by the code expecting a float.\n",
      "  % self.symbol)\n",
      "C:\\Users\\Amrit\\Anaconda3\\lib\\site-packages\\pymatgen\\core\\periodic_table.py:424: UserWarning: No electronegativity for Ar. Setting to NaN. This has no physical meaning, and is mainly done to avoid errors caused by the code expecting a float.\n",
      "  % self.symbol)\n"
     ]
    }
   ],
   "source": [
    "# Electronegativity -- 'Chi'\n",
    "ENEG_DICT = {Element.from_Z(i).symbol:\n",
    "             Element.from_Z(i).X for i in range(1, 93)}\n",
    "\n",
    "#Boiling point\n",
    "BOIL_DICT = {Element.from_Z(i).symbol:\n",
    "             Element.from_Z(i).boiling_point\n",
    "             if Element.from_Z(i).boiling_point\n",
    "             else 0 for i in range(1, 93)}\n",
    "#Melting point\n",
    "MELT_DICT = {Element.from_Z(i).symbol:\n",
    "             Element.from_Z(i).melting_point\n",
    "             if type(Element.from_Z(i).melting_point) != str\n",
    "             else 300. for i in range(1, 93)}"
   ]
  },
  {
   "cell_type": "markdown",
   "metadata": {},
   "source": [
    "Read in a file for the Zunger valence radii $R_s$, $R_p$, and $R_d$, with which we can make a dictionary, of which we can generate a column of features."
   ]
  },
  {
   "cell_type": "code",
   "execution_count": 20,
   "metadata": {},
   "outputs": [],
   "source": [
    "zvr = pd.read_csv('zungervalenceradius.csv')\n",
    "\n",
    "RS_DICT = {zvr.loc[i]['Element']:\n",
    "           zvr.loc[i]['Rs'] for i in zvr.index}\n",
    "\n",
    "RP_DICT = {zvr.loc[i]['Element']:\n",
    "           zvr.loc[i]['Rp'] for i in zvr.index}\n",
    "\n",
    "RD_DICT = {zvr.loc[i]['Element']:\n",
    "           zvr.loc[i]['Rd'] for i in zvr.index}"
   ]
  },
  {
   "cell_type": "markdown",
   "metadata": {},
   "source": [
    "Read in another file for the (first) ionization potentials, and make a dictionary out of this."
   ]
  },
  {
   "cell_type": "code",
   "execution_count": 21,
   "metadata": {},
   "outputs": [],
   "source": [
    "ip = pd.read_csv('ion.csv', sep=';',\n",
    "                 header=None,\n",
    "                 names=['Z', 'Element',\n",
    "                        'IP1', 'IP2', 'IP3'])\n",
    "\n",
    "IP_DICT = {ip.loc[i]['Element']:\n",
    "           ip.loc[i]['IP1'] for i in ip.index}"
   ]
  },
  {
   "cell_type": "markdown",
   "metadata": {},
   "source": [
    "Next, we wil make a function that add columns for each feature, modifying df inplace. It will take in the df we wish to modify, the feature dictionary, the column title, and the kind of site, and  add the desired column of features with the specified title, prefixed by the kind of site.\n",
    "\n",
    "Note that for every $B$ site features, we use a symmetric representation. The choice of which is $B$ and which $B'$ is simply alphabetical and hence arbitrary, and we wish for the model to see the same features if $B$ and $B'$ are reversed.\n",
    "\n",
    "Hence, for every $B$ site feature $f_B$ and $B'$ site feature $f_{B'}$, we return the sum $f_B + f_{B'}$ and the absolute difference $|f_B - f_{B'}|$."
   ]
  },
  {
   "cell_type": "code",
   "execution_count": 22,
   "metadata": {},
   "outputs": [],
   "source": [
    "def get_quant(df, feat_dict, title, kind):\n",
    "    if kind == 'A':\n",
    "        df['A_' + title] = df['A_sites'].replace(feat_dict)\n",
    "    elif kind == 'B':\n",
    "        summ = (df['B_sites'].replace(feat_dict) +\n",
    "                df['B_prime_sites'].replace(feat_dict))\n",
    "        dif = np.abs(df['B_sites'].replace(feat_dict) -\n",
    "                     df['B_prime_sites'].replace(feat_dict))\n",
    "        df['B_' + title + '_sum'] = summ\n",
    "        df['B_' + title + '_dif'] = dif\n",
    "    elif kind == 'X':\n",
    "        df['X_' + title] = df['X_sites'].replace(feat_dict)"
   ]
  },
  {
   "cell_type": "code",
   "execution_count": 23,
   "metadata": {},
   "outputs": [],
   "source": [
    "desired_features = [(IONIC_R_DICT, 'IonicRadius'),\n",
    "                    (ENEG_DICT, 'Electronegativity'),\n",
    "                    (BOIL_DICT, 'BoilingPoint'),\n",
    "                    (MELT_DICT, 'MeltingPoint'),\n",
    "                    (RS_DICT, 'Rs'),\n",
    "                    (RP_DICT, 'Rp'),\n",
    "                    (RD_DICT, 'Rd'),\n",
    "                    (IP_DICT, 'FirstIonizationPotential')]\n",
    "\n",
    "for feat_dict, title in desired_features:\n",
    "    get_quant(df_new, feat_dict, title, 'B')\n",
    "    get_quant(df_new, feat_dict, title, 'X')"
   ]
  },
  {
   "cell_type": "code",
   "execution_count": 24,
   "metadata": {},
   "outputs": [],
   "source": [
    "# Generate the atomic radius for the A site\n",
    "\n",
    "get_quant(df_new, IONIC_R_DICT, 'IonicRadius', 'A')"
   ]
  },
  {
   "cell_type": "markdown",
   "metadata": {},
   "source": [
    "Finally, we will make one final feature, which is the tolerance factor. \n",
    "\n",
    "This gives some information as to what kind of crystal structure the perovskite will adopt. For a given perovskite with $A$, $B$, and $X$ sites, the tolerance factor $t$ is given by\n",
    "\n",
    "$$ t = \\frac{R_A + R_X}{\\sqrt{2} \\cdot (R_B + R_X)} $$\n",
    "where $R_A$, $R_B$, and $R_X$ are the ionic radii of the $A$, $B$, and $X$, sites, respectively.\n",
    "\n",
    "Since we have both $B$ and $B'$ sites, we calculate the tolerance factor for $B$ site ($t_B$) and the tolerance factor $B'$ site ($t_{B'}$). Again, we use the same trick from earlier to generate two symmetrized features; $t_B + t_{B'}$ and $|t_B - t_{B'}|$."
   ]
  },
  {
   "cell_type": "code",
   "execution_count": 25,
   "metadata": {},
   "outputs": [],
   "source": [
    "def get_tolerance_factor(df, title='ToleranceFactor'):\n",
    "    Ra = df['A_sites'].replace(IONIC_R_DICT)\n",
    "    Rb = df['B_sites'].replace(IONIC_R_DICT)\n",
    "    Rbp =  df['B_prime_sites'].replace(IONIC_R_DICT)\n",
    "    Rx = df['X_sites'].replace(IONIC_R_DICT)\n",
    "    \n",
    "    df[title + '_sum'] = (\n",
    "        (Ra + Rx) / (np.sqrt(2) * (Rb + Rx)) +\n",
    "        (Ra + Rx) / (np.sqrt(2) * (Rbp + Rx))\n",
    "    )\n",
    "\n",
    "    df[title + '_dif'] = np.abs(\n",
    "        (Ra + Rx) / (np.sqrt(2) * (Rb + Rx)) -\n",
    "        (Ra + Rx) / (np.sqrt(2) * (Rbp + Rx))\n",
    "    )"
   ]
  },
  {
   "cell_type": "code",
   "execution_count": 26,
   "metadata": {},
   "outputs": [],
   "source": [
    "get_tolerance_factor(df_new)\n",
    "\n",
    "#Let's save this work into a pkl file\n",
    "\n",
    "df_new.to_pickle('df_new.pkl')"
   ]
  },
  {
   "cell_type": "code",
   "execution_count": 27,
   "metadata": {},
   "outputs": [
    {
     "data": {
      "text/html": [
       "<div>\n",
       "<style scoped>\n",
       "    .dataframe tbody tr th:only-of-type {\n",
       "        vertical-align: middle;\n",
       "    }\n",
       "\n",
       "    .dataframe tbody tr th {\n",
       "        vertical-align: top;\n",
       "    }\n",
       "\n",
       "    .dataframe thead th {\n",
       "        text-align: right;\n",
       "    }\n",
       "</style>\n",
       "<table border=\"1\" class=\"dataframe\">\n",
       "  <thead>\n",
       "    <tr style=\"text-align: right;\">\n",
       "      <th></th>\n",
       "      <th>System</th>\n",
       "      <th>LowGap_SOHSE_Approx</th>\n",
       "      <th>A_sites</th>\n",
       "      <th>B_sites</th>\n",
       "      <th>B_prime_sites</th>\n",
       "      <th>X_sites</th>\n",
       "      <th>B_IonicRadius_sum</th>\n",
       "      <th>B_IonicRadius_dif</th>\n",
       "      <th>X_IonicRadius</th>\n",
       "      <th>B_Electronegativity_sum</th>\n",
       "      <th>...</th>\n",
       "      <th>X_Rp</th>\n",
       "      <th>B_Rd_sum</th>\n",
       "      <th>B_Rd_dif</th>\n",
       "      <th>X_Rd</th>\n",
       "      <th>B_FirstIonizationPotential_sum</th>\n",
       "      <th>B_FirstIonizationPotential_dif</th>\n",
       "      <th>X_FirstIonizationPotential</th>\n",
       "      <th>A_IonicRadius</th>\n",
       "      <th>ToleranceFactor_sum</th>\n",
       "      <th>ToleranceFactor_dif</th>\n",
       "    </tr>\n",
       "  </thead>\n",
       "  <tbody>\n",
       "    <tr>\n",
       "      <td>50</td>\n",
       "      <td>C4N4H24Be2Pb2I12</td>\n",
       "      <td>3.190090</td>\n",
       "      <td>MA</td>\n",
       "      <td>Be</td>\n",
       "      <td>Pb</td>\n",
       "      <td>I</td>\n",
       "      <td>1.7125</td>\n",
       "      <td>0.5325</td>\n",
       "      <td>1.27333</td>\n",
       "      <td>3.9</td>\n",
       "      <td>...</td>\n",
       "      <td>0.83</td>\n",
       "      <td>0.45</td>\n",
       "      <td>0.45</td>\n",
       "      <td>0.315</td>\n",
       "      <td>16.7393</td>\n",
       "      <td>1.9059</td>\n",
       "      <td>10.4513</td>\n",
       "      <td>2.17</td>\n",
       "      <td>2.32296</td>\n",
       "      <td>0.290427</td>\n",
       "    </tr>\n",
       "    <tr>\n",
       "      <td>52</td>\n",
       "      <td>C4N4H24Be2Hg2I12</td>\n",
       "      <td>3.111010</td>\n",
       "      <td>MA</td>\n",
       "      <td>Be</td>\n",
       "      <td>Hg</td>\n",
       "      <td>I</td>\n",
       "      <td>1.835</td>\n",
       "      <td>0.655</td>\n",
       "      <td>1.27333</td>\n",
       "      <td>3.57</td>\n",
       "      <td>...</td>\n",
       "      <td>0.83</td>\n",
       "      <td>0.475</td>\n",
       "      <td>0.475</td>\n",
       "      <td>0.315</td>\n",
       "      <td>19.7601</td>\n",
       "      <td>1.1149</td>\n",
       "      <td>10.4513</td>\n",
       "      <td>2.17</td>\n",
       "      <td>2.27352</td>\n",
       "      <td>0.339861</td>\n",
       "    </tr>\n",
       "    <tr>\n",
       "      <td>54</td>\n",
       "      <td>C4N4H24Be2Pt2I12</td>\n",
       "      <td>2.524556</td>\n",
       "      <td>MA</td>\n",
       "      <td>Be</td>\n",
       "      <td>Pt</td>\n",
       "      <td>I</td>\n",
       "      <td>1.395</td>\n",
       "      <td>0.215</td>\n",
       "      <td>1.27333</td>\n",
       "      <td>3.85</td>\n",
       "      <td>...</td>\n",
       "      <td>0.83</td>\n",
       "      <td>0.51</td>\n",
       "      <td>0.51</td>\n",
       "      <td>0.315</td>\n",
       "      <td>18.3226</td>\n",
       "      <td>0.3226</td>\n",
       "      <td>10.4513</td>\n",
       "      <td>2.17</td>\n",
       "      <td>2.47821</td>\n",
       "      <td>0.135175</td>\n",
       "    </tr>\n",
       "    <tr>\n",
       "      <td>60</td>\n",
       "      <td>C4N4H24Be2Hf2I12</td>\n",
       "      <td>3.055102</td>\n",
       "      <td>MA</td>\n",
       "      <td>Be</td>\n",
       "      <td>Hf</td>\n",
       "      <td>I</td>\n",
       "      <td>1.44</td>\n",
       "      <td>0.26</td>\n",
       "      <td>1.27333</td>\n",
       "      <td>2.87</td>\n",
       "      <td>...</td>\n",
       "      <td>0.83</td>\n",
       "      <td>0.63</td>\n",
       "      <td>0.63</td>\n",
       "      <td>0.315</td>\n",
       "      <td>16.1477</td>\n",
       "      <td>2.4975</td>\n",
       "      <td>10.4513</td>\n",
       "      <td>2.17</td>\n",
       "      <td>2.45338</td>\n",
       "      <td>0.160003</td>\n",
       "    </tr>\n",
       "    <tr>\n",
       "      <td>61</td>\n",
       "      <td>C4N4H24Be2Ba2I12</td>\n",
       "      <td>4.566838</td>\n",
       "      <td>MA</td>\n",
       "      <td>Be</td>\n",
       "      <td>Ba</td>\n",
       "      <td>I</td>\n",
       "      <td>2.08</td>\n",
       "      <td>0.9</td>\n",
       "      <td>1.27333</td>\n",
       "      <td>2.46</td>\n",
       "      <td>...</td>\n",
       "      <td>0.83</td>\n",
       "      <td>0.94</td>\n",
       "      <td>0.94</td>\n",
       "      <td>0.315</td>\n",
       "      <td>14.5343</td>\n",
       "      <td>4.1109</td>\n",
       "      <td>10.4513</td>\n",
       "      <td>2.17</td>\n",
       "      <td>2.1878</td>\n",
       "      <td>0.425582</td>\n",
       "    </tr>\n",
       "  </tbody>\n",
       "</table>\n",
       "<p>5 rows × 33 columns</p>\n",
       "</div>"
      ],
      "text/plain": [
       "              System  LowGap_SOHSE_Approx A_sites B_sites B_prime_sites  \\\n",
       "50  C4N4H24Be2Pb2I12             3.190090      MA      Be            Pb   \n",
       "52  C4N4H24Be2Hg2I12             3.111010      MA      Be            Hg   \n",
       "54  C4N4H24Be2Pt2I12             2.524556      MA      Be            Pt   \n",
       "60  C4N4H24Be2Hf2I12             3.055102      MA      Be            Hf   \n",
       "61  C4N4H24Be2Ba2I12             4.566838      MA      Be            Ba   \n",
       "\n",
       "   X_sites B_IonicRadius_sum B_IonicRadius_dif X_IonicRadius  \\\n",
       "50       I            1.7125            0.5325       1.27333   \n",
       "52       I             1.835             0.655       1.27333   \n",
       "54       I             1.395             0.215       1.27333   \n",
       "60       I              1.44              0.26       1.27333   \n",
       "61       I              2.08               0.9       1.27333   \n",
       "\n",
       "   B_Electronegativity_sum  ...  X_Rp B_Rd_sum B_Rd_dif   X_Rd  \\\n",
       "50                     3.9  ...  0.83     0.45     0.45  0.315   \n",
       "52                    3.57  ...  0.83    0.475    0.475  0.315   \n",
       "54                    3.85  ...  0.83     0.51     0.51  0.315   \n",
       "60                    2.87  ...  0.83     0.63     0.63  0.315   \n",
       "61                    2.46  ...  0.83     0.94     0.94  0.315   \n",
       "\n",
       "   B_FirstIonizationPotential_sum B_FirstIonizationPotential_dif  \\\n",
       "50                        16.7393                         1.9059   \n",
       "52                        19.7601                         1.1149   \n",
       "54                        18.3226                         0.3226   \n",
       "60                        16.1477                         2.4975   \n",
       "61                        14.5343                         4.1109   \n",
       "\n",
       "   X_FirstIonizationPotential A_IonicRadius ToleranceFactor_sum  \\\n",
       "50                    10.4513          2.17             2.32296   \n",
       "52                    10.4513          2.17             2.27352   \n",
       "54                    10.4513          2.17             2.47821   \n",
       "60                    10.4513          2.17             2.45338   \n",
       "61                    10.4513          2.17              2.1878   \n",
       "\n",
       "   ToleranceFactor_dif  \n",
       "50            0.290427  \n",
       "52            0.339861  \n",
       "54            0.135175  \n",
       "60            0.160003  \n",
       "61            0.425582  \n",
       "\n",
       "[5 rows x 33 columns]"
      ]
     },
     "execution_count": 27,
     "metadata": {},
     "output_type": "execute_result"
    }
   ],
   "source": [
    "df_new.head()"
   ]
  },
  {
   "cell_type": "markdown",
   "metadata": {},
   "source": [
    "# Part 2: Machine Learning"
   ]
  },
  {
   "cell_type": "markdown",
   "metadata": {},
   "source": [
    "Let's try to see if we can predict the band gap using a machine learning algorithm (random forest)."
   ]
  },
  {
   "cell_type": "code",
   "execution_count": 28,
   "metadata": {},
   "outputs": [],
   "source": [
    "from sklearn.ensemble import RandomForestRegressor\n",
    "from sklearn.model_selection import train_test_split\n",
    "from sklearn.metrics import mean_absolute_error, mean_squared_error"
   ]
  },
  {
   "cell_type": "code",
   "execution_count": 29,
   "metadata": {},
   "outputs": [
    {
     "name": "stdout",
     "output_type": "stream",
     "text": [
      "<class 'pandas.core.frame.DataFrame'>\n",
      "Int64Index: 1921 entries, 50 to 9847\n",
      "Data columns (total 33 columns):\n",
      "System                            1921 non-null object\n",
      "LowGap_SOHSE_Approx               1921 non-null float64\n",
      "A_sites                           1921 non-null object\n",
      "B_sites                           1921 non-null object\n",
      "B_prime_sites                     1921 non-null object\n",
      "X_sites                           1921 non-null object\n",
      "B_IonicRadius_sum                 1921 non-null object\n",
      "B_IonicRadius_dif                 1921 non-null object\n",
      "X_IonicRadius                     1921 non-null object\n",
      "B_Electronegativity_sum           1921 non-null object\n",
      "B_Electronegativity_dif           1921 non-null object\n",
      "X_Electronegativity               1921 non-null object\n",
      "B_BoilingPoint_sum                1921 non-null object\n",
      "B_BoilingPoint_dif                1921 non-null object\n",
      "X_BoilingPoint                    1921 non-null object\n",
      "B_MeltingPoint_sum                1921 non-null object\n",
      "B_MeltingPoint_dif                1921 non-null object\n",
      "X_MeltingPoint                    1921 non-null object\n",
      "B_Rs_sum                          1921 non-null object\n",
      "B_Rs_dif                          1921 non-null object\n",
      "X_Rs                              1921 non-null object\n",
      "B_Rp_sum                          1921 non-null object\n",
      "B_Rp_dif                          1921 non-null object\n",
      "X_Rp                              1921 non-null object\n",
      "B_Rd_sum                          1921 non-null object\n",
      "B_Rd_dif                          1921 non-null object\n",
      "X_Rd                              1921 non-null object\n",
      "B_FirstIonizationPotential_sum    1921 non-null object\n",
      "B_FirstIonizationPotential_dif    1921 non-null object\n",
      "X_FirstIonizationPotential        1921 non-null object\n",
      "A_IonicRadius                     1921 non-null float64\n",
      "ToleranceFactor_sum               1921 non-null object\n",
      "ToleranceFactor_dif               1921 non-null object\n",
      "dtypes: float64(2), object(31)\n",
      "memory usage: 510.3+ KB\n"
     ]
    }
   ],
   "source": [
    "df_new.info()"
   ]
  },
  {
   "cell_type": "markdown",
   "metadata": {},
   "source": [
    "t looks like the desired features are not floats, so we need to convert them."
   ]
  },
  {
   "cell_type": "code",
   "execution_count": 30,
   "metadata": {},
   "outputs": [],
   "source": [
    "for col in df_new.columns[6:]:\n",
    "    df_new[col] = df_new[col].astype(np.float64)"
   ]
  },
  {
   "cell_type": "code",
   "execution_count": 31,
   "metadata": {},
   "outputs": [
    {
     "name": "stdout",
     "output_type": "stream",
     "text": [
      "<class 'pandas.core.frame.DataFrame'>\n",
      "Int64Index: 1921 entries, 50 to 9847\n",
      "Data columns (total 33 columns):\n",
      "System                            1921 non-null object\n",
      "LowGap_SOHSE_Approx               1921 non-null float64\n",
      "A_sites                           1921 non-null object\n",
      "B_sites                           1921 non-null object\n",
      "B_prime_sites                     1921 non-null object\n",
      "X_sites                           1921 non-null object\n",
      "B_IonicRadius_sum                 1921 non-null float64\n",
      "B_IonicRadius_dif                 1921 non-null float64\n",
      "X_IonicRadius                     1921 non-null float64\n",
      "B_Electronegativity_sum           1921 non-null float64\n",
      "B_Electronegativity_dif           1921 non-null float64\n",
      "X_Electronegativity               1921 non-null float64\n",
      "B_BoilingPoint_sum                1921 non-null float64\n",
      "B_BoilingPoint_dif                1921 non-null float64\n",
      "X_BoilingPoint                    1921 non-null float64\n",
      "B_MeltingPoint_sum                1921 non-null float64\n",
      "B_MeltingPoint_dif                1921 non-null float64\n",
      "X_MeltingPoint                    1921 non-null float64\n",
      "B_Rs_sum                          1921 non-null float64\n",
      "B_Rs_dif                          1921 non-null float64\n",
      "X_Rs                              1921 non-null float64\n",
      "B_Rp_sum                          1921 non-null float64\n",
      "B_Rp_dif                          1921 non-null float64\n",
      "X_Rp                              1921 non-null float64\n",
      "B_Rd_sum                          1921 non-null float64\n",
      "B_Rd_dif                          1921 non-null float64\n",
      "X_Rd                              1921 non-null float64\n",
      "B_FirstIonizationPotential_sum    1921 non-null float64\n",
      "B_FirstIonizationPotential_dif    1921 non-null float64\n",
      "X_FirstIonizationPotential        1921 non-null float64\n",
      "A_IonicRadius                     1921 non-null float64\n",
      "ToleranceFactor_sum               1921 non-null float64\n",
      "ToleranceFactor_dif               1921 non-null float64\n",
      "dtypes: float64(28), object(5)\n",
      "memory usage: 510.3+ KB\n"
     ]
    }
   ],
   "source": [
    "df_new.info()"
   ]
  },
  {
   "cell_type": "markdown",
   "metadata": {},
   "source": [
    "Let's use all the columns that contain numerical data (besides the band gap we which to predict), and use this as our $\\boldsymbol{X}$, in which rows represent individual data observations, and columns represent features.\n",
    "\n",
    "Let's set our $\\boldsymbol{y}$ as a vector containing all of the band gaps. This is sometimes called a target vector. Then check the shapes of our $\\boldsymbol{X}$ and $\\boldsymbol{y}$:"
   ]
  },
  {
   "cell_type": "code",
   "execution_count": 32,
   "metadata": {},
   "outputs": [
    {
     "data": {
      "text/plain": [
       "((1921, 27), (1921,))"
      ]
     },
     "execution_count": 32,
     "metadata": {},
     "output_type": "execute_result"
    }
   ],
   "source": [
    "X = df_new[df_new.columns[6:]]\n",
    "\n",
    "y = df_new['LowGap_SOHSE_Approx']\n",
    "\n",
    "X.shape, y.shape"
   ]
  },
  {
   "cell_type": "markdown",
   "metadata": {},
   "source": [
    "Now, let's use the function train_test_split to make splits for training and testing. We will use a test set size of $0.2$. The random_state=42 ensures that the same random split is returned every time (for the sake of reproducibility)."
   ]
  },
  {
   "cell_type": "code",
   "execution_count": 33,
   "metadata": {},
   "outputs": [],
   "source": [
    "X_train, X_test, y_train, y_test = train_test_split(X, y, test_size = 0.2, random_state = 42)"
   ]
  },
  {
   "cell_type": "code",
   "execution_count": 34,
   "metadata": {},
   "outputs": [
    {
     "data": {
      "text/plain": [
       "((1536, 27), (385, 27), (1536,), (385,))"
      ]
     },
     "execution_count": 34,
     "metadata": {},
     "output_type": "execute_result"
    }
   ],
   "source": [
    "X_train.shape, X_test.shape, y_train.shape, y_test.shape"
   ]
  },
  {
   "cell_type": "markdown",
   "metadata": {},
   "source": [
    "### Random Forest "
   ]
  },
  {
   "cell_type": "code",
   "execution_count": 35,
   "metadata": {},
   "outputs": [
    {
     "data": {
      "text/plain": [
       "RandomForestRegressor(bootstrap=True, criterion='mse', max_depth=None,\n",
       "                      max_features='auto', max_leaf_nodes=None,\n",
       "                      min_impurity_decrease=0.0, min_impurity_split=None,\n",
       "                      min_samples_leaf=1, min_samples_split=2,\n",
       "                      min_weight_fraction_leaf=0.0, n_estimators='warn',\n",
       "                      n_jobs=-1, oob_score=False, random_state=42, verbose=0,\n",
       "                      warm_start=False)"
      ]
     },
     "execution_count": 35,
     "metadata": {},
     "output_type": "execute_result"
    }
   ],
   "source": [
    "rfr = RandomForestRegressor(random_state = 42, n_jobs = -1)\n",
    "\n",
    "rfr"
   ]
  },
  {
   "cell_type": "markdown",
   "metadata": {},
   "source": [
    "Let's train our model on training data"
   ]
  },
  {
   "cell_type": "code",
   "execution_count": 36,
   "metadata": {},
   "outputs": [
    {
     "name": "stderr",
     "output_type": "stream",
     "text": [
      "C:\\Users\\Amrit\\Anaconda3\\lib\\site-packages\\sklearn\\ensemble\\forest.py:245: FutureWarning: The default value of n_estimators will change from 10 in version 0.20 to 100 in 0.22.\n",
      "  \"10 in version 0.20 to 100 in 0.22.\", FutureWarning)\n"
     ]
    },
    {
     "data": {
      "text/plain": [
       "RandomForestRegressor(bootstrap=True, criterion='mse', max_depth=None,\n",
       "                      max_features='auto', max_leaf_nodes=None,\n",
       "                      min_impurity_decrease=0.0, min_impurity_split=None,\n",
       "                      min_samples_leaf=1, min_samples_split=2,\n",
       "                      min_weight_fraction_leaf=0.0, n_estimators=10, n_jobs=-1,\n",
       "                      oob_score=False, random_state=42, verbose=0,\n",
       "                      warm_start=False)"
      ]
     },
     "execution_count": 36,
     "metadata": {},
     "output_type": "execute_result"
    }
   ],
   "source": [
    "rfr.fit(X_train, y_train)"
   ]
  },
  {
   "cell_type": "code",
   "execution_count": 37,
   "metadata": {},
   "outputs": [
    {
     "name": "stdout",
     "output_type": "stream",
     "text": [
      "Mean Squared Error: 0.28419785065471403\n",
      "Mean Absolute Error: 0.3793655412987013\n",
      "Root Mean Squared Error: 0.533102101529073\n"
     ]
    }
   ],
   "source": [
    "from sklearn import metrics\n",
    "from sklearn.metrics import accuracy_score\n",
    "\n",
    "print('Mean Squared Error:', metrics.mean_squared_error(y_test, rfr.predict(X_test)))\n",
    "print('Mean Absolute Error:', metrics.mean_absolute_error(y_test, rfr.predict(X_test)))\n",
    "print('Root Mean Squared Error:', np.sqrt(metrics.mean_squared_error(y_test, rfr.predict(X_test))))"
   ]
  },
  {
   "cell_type": "markdown",
   "metadata": {},
   "source": [
    "Next, we will try different values for hyperparameters that we took as default in the beginning."
   ]
  },
  {
   "cell_type": "code",
   "execution_count": 38,
   "metadata": {},
   "outputs": [],
   "source": [
    "from sklearn.model_selection import RandomizedSearchCV"
   ]
  },
  {
   "cell_type": "markdown",
   "metadata": {},
   "source": [
    "Let's make the dictionary of hyperparameters:"
   ]
  },
  {
   "cell_type": "code",
   "execution_count": 39,
   "metadata": {},
   "outputs": [
    {
     "data": {
      "text/plain": [
       "{'n_estimators': [50,\n",
       "  100,\n",
       "  150,\n",
       "  200,\n",
       "  250,\n",
       "  300,\n",
       "  350,\n",
       "  400,\n",
       "  450,\n",
       "  500,\n",
       "  550,\n",
       "  600,\n",
       "  650,\n",
       "  700,\n",
       "  750,\n",
       "  800,\n",
       "  850,\n",
       "  900,\n",
       "  950,\n",
       "  1000],\n",
       " 'max_depth': [10, 20, 30, 40, 50, 60, 70, 80, 90, 100, None],\n",
       " 'min_samples_split': [2, 5, 10, 15, 20],\n",
       " 'max_features': [0.1, 0.2, 0.3, 0.4, 0.5, 'sqrt']}"
      ]
     },
     "execution_count": 39,
     "metadata": {},
     "output_type": "execute_result"
    }
   ],
   "source": [
    "hp_dict = {\n",
    "    'n_estimators': [int(i) for i in np.linspace(50, 1000, 20)],\n",
    "    'max_depth': [int(i) for i in np.linspace(10, 100, 10)] + [None],\n",
    "    'min_samples_split': [2, 5, 10, 15, 20],\n",
    "    'max_features': [0.1, 0.2, 0.3, 0.4, 0.5, 'sqrt']    \n",
    "}\n",
    "\n",
    "hp_dict"
   ]
  },
  {
   "cell_type": "markdown",
   "metadata": {},
   "source": [
    "Let's make a RandomizedSearchCV object. We need to specify the algorithm (estimator). Let's set this to the random forest rfr we set earlier. The grid of configurations to try (param_distributions) will be the hp_dict dictionary we created. n_iter tests how many combinations we wish to try. Here it is 10 to run it quickly for demonstration purposes. cv dictates the $k$ value for $k$-fold cross validation. We use random_state=42 to ensure reproducibility. verbose=3 makes a lot of the information print, which is convenient in tracking the progress. Finally, n_jobs=-1 indicates that all cores will be used."
   ]
  },
  {
   "cell_type": "code",
   "execution_count": 40,
   "metadata": {},
   "outputs": [],
   "source": [
    "rand = RandomizedSearchCV(\n",
    "    estimator=rfr,\n",
    "    param_distributions=hp_dict,\n",
    "    n_iter=10,\n",
    "    cv=3,\n",
    "    random_state=42,\n",
    "    verbose=3,\n",
    "    n_jobs=-1\n",
    ")"
   ]
  },
  {
   "cell_type": "code",
   "execution_count": 41,
   "metadata": {},
   "outputs": [
    {
     "name": "stdout",
     "output_type": "stream",
     "text": [
      "Fitting 3 folds for each of 10 candidates, totalling 30 fits\n"
     ]
    },
    {
     "name": "stderr",
     "output_type": "stream",
     "text": [
      "[Parallel(n_jobs=-1)]: Using backend LokyBackend with 4 concurrent workers.\n",
      "[Parallel(n_jobs=-1)]: Done  30 out of  30 | elapsed:   44.6s finished\n"
     ]
    },
    {
     "data": {
      "text/plain": [
       "RandomizedSearchCV(cv=3, error_score='raise-deprecating',\n",
       "                   estimator=RandomForestRegressor(bootstrap=True,\n",
       "                                                   criterion='mse',\n",
       "                                                   max_depth=None,\n",
       "                                                   max_features='auto',\n",
       "                                                   max_leaf_nodes=None,\n",
       "                                                   min_impurity_decrease=0.0,\n",
       "                                                   min_impurity_split=None,\n",
       "                                                   min_samples_leaf=1,\n",
       "                                                   min_samples_split=2,\n",
       "                                                   min_weight_fraction_leaf=0.0,\n",
       "                                                   n_estimators=10, n_jobs=-1,\n",
       "                                                   oob_score=False,\n",
       "                                                   random_state=42,...\n",
       "                   iid='warn', n_iter=10, n_jobs=-1,\n",
       "                   param_distributions={'max_depth': [10, 20, 30, 40, 50, 60,\n",
       "                                                      70, 80, 90, 100, None],\n",
       "                                        'max_features': [0.1, 0.2, 0.3, 0.4,\n",
       "                                                         0.5, 'sqrt'],\n",
       "                                        'min_samples_split': [2, 5, 10, 15, 20],\n",
       "                                        'n_estimators': [50, 100, 150, 200, 250,\n",
       "                                                         300, 350, 400, 450,\n",
       "                                                         500, 550, 600, 650,\n",
       "                                                         700, 750, 800, 850,\n",
       "                                                         900, 950, 1000]},\n",
       "                   pre_dispatch='2*n_jobs', random_state=42, refit=True,\n",
       "                   return_train_score=False, scoring=None, verbose=3)"
      ]
     },
     "execution_count": 41,
     "metadata": {},
     "output_type": "execute_result"
    }
   ],
   "source": [
    "rand.fit(X_train, y_train)"
   ]
  },
  {
   "cell_type": "code",
   "execution_count": 42,
   "metadata": {},
   "outputs": [
    {
     "data": {
      "text/plain": [
       "{'n_estimators': 350,\n",
       " 'min_samples_split': 5,\n",
       " 'max_features': 0.5,\n",
       " 'max_depth': 90}"
      ]
     },
     "execution_count": 42,
     "metadata": {},
     "output_type": "execute_result"
    }
   ],
   "source": [
    "rand.best_params_"
   ]
  },
  {
   "cell_type": "code",
   "execution_count": 43,
   "metadata": {},
   "outputs": [
    {
     "data": {
      "text/plain": [
       "RandomForestRegressor(bootstrap=True, criterion='mse', max_depth=90,\n",
       "                      max_features=0.5, max_leaf_nodes=None,\n",
       "                      min_impurity_decrease=0.0, min_impurity_split=None,\n",
       "                      min_samples_leaf=1, min_samples_split=5,\n",
       "                      min_weight_fraction_leaf=0.0, n_estimators=350, n_jobs=-1,\n",
       "                      oob_score=False, random_state=42, verbose=0,\n",
       "                      warm_start=False)"
      ]
     },
     "execution_count": 43,
     "metadata": {},
     "output_type": "execute_result"
    }
   ],
   "source": [
    "rand.best_estimator_"
   ]
  },
  {
   "cell_type": "code",
   "execution_count": 44,
   "metadata": {},
   "outputs": [
    {
     "name": "stdout",
     "output_type": "stream",
     "text": [
      "Mean Squared Error: 0.25410944822395176\n",
      "Mean Absolute Error: 0.3637732862905896\n",
      "Root Mean Squared Error: 0.5040926980466507\n"
     ]
    }
   ],
   "source": [
    "print('Mean Squared Error:', metrics.mean_squared_error(y_test, rand.best_estimator_.predict(X_test)))\n",
    "print('Mean Absolute Error:', metrics.mean_absolute_error(y_test, rand.best_estimator_.predict(X_test)))\n",
    "print('Root Mean Squared Error:', np.sqrt(metrics.mean_squared_error(y_test, rand.best_estimator_.predict(X_test))))"
   ]
  },
  {
   "cell_type": "markdown",
   "metadata": {},
   "source": [
    "We can also see which columns (features) were most important for the random forest algorithm. This can help us whittle down the number of features in case they are too many features, and also help us interpret the model."
   ]
  },
  {
   "cell_type": "code",
   "execution_count": 45,
   "metadata": {},
   "outputs": [
    {
     "data": {
      "text/plain": [
       "array([0.02928105, 0.02071222, 0.0174927 , 0.20966352, 0.05428223,\n",
       "       0.01836623, 0.04117425, 0.05902698, 0.01840578, 0.04581402,\n",
       "       0.0371618 , 0.01642706, 0.03121912, 0.02422141, 0.0173211 ,\n",
       "       0.03523402, 0.0466566 , 0.01823948, 0.02969565, 0.01776696,\n",
       "       0.01971224, 0.06552189, 0.03108234, 0.02006746, 0.01059797,\n",
       "       0.03402934, 0.03082659])"
      ]
     },
     "execution_count": 45,
     "metadata": {},
     "output_type": "execute_result"
    }
   ],
   "source": [
    "rand.best_estimator_.feature_importances_"
   ]
  },
  {
   "cell_type": "markdown",
   "metadata": {},
   "source": [
    "Finally, let's look at the names that these importances correspond to"
   ]
  },
  {
   "cell_type": "code",
   "execution_count": 46,
   "metadata": {},
   "outputs": [
    {
     "data": {
      "text/plain": [
       "[('B_Electronegativity_sum', 0.2096635207097799),\n",
       " ('B_FirstIonizationPotential_sum', 0.06552189392073311),\n",
       " ('B_BoilingPoint_dif', 0.05902698287772896),\n",
       " ('B_Electronegativity_dif', 0.05428223256676176),\n",
       " ('B_Rp_dif', 0.046656597726735964),\n",
       " ('B_MeltingPoint_sum', 0.04581401504826194),\n",
       " ('B_BoilingPoint_sum', 0.04117425020310158),\n",
       " ('B_MeltingPoint_dif', 0.03716179672088477),\n",
       " ('B_Rp_sum', 0.035234024358767144),\n",
       " ('ToleranceFactor_sum', 0.034029336922216005),\n",
       " ('B_Rs_sum', 0.031219122180312232),\n",
       " ('B_FirstIonizationPotential_dif', 0.031082343246673656),\n",
       " ('ToleranceFactor_dif', 0.030826587092878256),\n",
       " ('B_Rd_sum', 0.02969565455536849),\n",
       " ('B_IonicRadius_sum', 0.029281045877120136),\n",
       " ('B_Rs_dif', 0.02422141260885283),\n",
       " ('B_IonicRadius_dif', 0.020712218265346707),\n",
       " ('X_FirstIonizationPotential', 0.02006745688793516),\n",
       " ('X_Rd', 0.019712241592521832),\n",
       " ('X_BoilingPoint', 0.018405775291338862),\n",
       " ('X_Electronegativity', 0.018366227753744024),\n",
       " ('X_Rp', 0.018239480687084697),\n",
       " ('B_Rd_dif', 0.01776696233147988),\n",
       " ('X_IonicRadius', 0.01749269550160197),\n",
       " ('X_Rs', 0.017321100226432892),\n",
       " ('X_MeltingPoint', 0.016427058515141042),\n",
       " ('A_IonicRadius', 0.010597966331196172)]"
      ]
     },
     "execution_count": 46,
     "metadata": {},
     "output_type": "execute_result"
    }
   ],
   "source": [
    "sorted(list(zip(X.columns, rand.best_estimator_.feature_importances_)),\n",
    "       key=lambda x: -x[1])"
   ]
  },
  {
   "cell_type": "markdown",
   "metadata": {},
   "source": [
    "# XGBoost"
   ]
  },
  {
   "cell_type": "code",
   "execution_count": 49,
   "metadata": {},
   "outputs": [],
   "source": [
    "from sklearn.metrics import mean_squared_error\n",
    "from sklearn.model_selection import cross_val_score, KFold\n",
    "import xgboost as xgb"
   ]
  },
  {
   "cell_type": "code",
   "execution_count": 50,
   "metadata": {},
   "outputs": [
    {
     "name": "stderr",
     "output_type": "stream",
     "text": [
      "C:\\Users\\Amrit\\Anaconda3\\lib\\site-packages\\xgboost\\core.py:587: FutureWarning: Series.base is deprecated and will be removed in a future version\n",
      "  if getattr(data, 'base', None) is not None and \\\n"
     ]
    }
   ],
   "source": [
    "dtrain = xgb.DMatrix(X_train, label = y_train)\n",
    "dtest = xgb.DMatrix(X_test, label = y_test)"
   ]
  },
  {
   "cell_type": "code",
   "execution_count": 51,
   "metadata": {},
   "outputs": [],
   "source": [
    "xg_reg = xgb.XGBRegressor(objective ='reg:linear', colsample_bytree = 0.4, learning_rate = 0.1,\n",
    "                max_depth = 5, alpha = 10, n_estimators = 100)"
   ]
  },
  {
   "cell_type": "code",
   "execution_count": 52,
   "metadata": {},
   "outputs": [
    {
     "name": "stdout",
     "output_type": "stream",
     "text": [
      "[13:53:12] WARNING: C:/Jenkins/workspace/xgboost-win64_release_0.90/src/objective/regression_obj.cu:152: reg:linear is now deprecated in favor of reg:squarederror.\n"
     ]
    }
   ],
   "source": [
    "xg_reg.fit(X_train, y_train)\n",
    "\n",
    "preds = xg_reg.predict(X_test)"
   ]
  },
  {
   "cell_type": "code",
   "execution_count": 53,
   "metadata": {
    "scrolled": true
   },
   "outputs": [
    {
     "name": "stdout",
     "output_type": "stream",
     "text": [
      "[13:53:14] WARNING: C:/Jenkins/workspace/xgboost-win64_release_0.90/src/objective/regression_obj.cu:152: reg:linear is now deprecated in favor of reg:squarederror.\n",
      "[13:53:14] WARNING: C:/Jenkins/workspace/xgboost-win64_release_0.90/src/objective/regression_obj.cu:152: reg:linear is now deprecated in favor of reg:squarederror.\n",
      "[13:53:15] WARNING: C:/Jenkins/workspace/xgboost-win64_release_0.90/src/objective/regression_obj.cu:152: reg:linear is now deprecated in favor of reg:squarederror.\n",
      "[13:53:15] WARNING: C:/Jenkins/workspace/xgboost-win64_release_0.90/src/objective/regression_obj.cu:152: reg:linear is now deprecated in favor of reg:squarederror.\n",
      "[13:53:16] WARNING: C:/Jenkins/workspace/xgboost-win64_release_0.90/src/objective/regression_obj.cu:152: reg:linear is now deprecated in favor of reg:squarederror.\n",
      "[13:53:16] WARNING: C:/Jenkins/workspace/xgboost-win64_release_0.90/src/objective/regression_obj.cu:152: reg:linear is now deprecated in favor of reg:squarederror.\n",
      "[13:53:17] WARNING: C:/Jenkins/workspace/xgboost-win64_release_0.90/src/objective/regression_obj.cu:152: reg:linear is now deprecated in favor of reg:squarederror.\n",
      "[13:53:17] WARNING: C:/Jenkins/workspace/xgboost-win64_release_0.90/src/objective/regression_obj.cu:152: reg:linear is now deprecated in favor of reg:squarederror.\n",
      "[13:53:18] WARNING: C:/Jenkins/workspace/xgboost-win64_release_0.90/src/objective/regression_obj.cu:152: reg:linear is now deprecated in favor of reg:squarederror.\n",
      "[13:53:19] WARNING: C:/Jenkins/workspace/xgboost-win64_release_0.90/src/objective/regression_obj.cu:152: reg:linear is now deprecated in favor of reg:squarederror.\n",
      "Mean Squared Error: 0.2320562851629644\n",
      "Mean Absolute Error: 0.33234708508653515\n",
      "Root Mean Squared Error: 0.4817222074629365\n",
      "Mean cross-validation score: 0.7275\n"
     ]
    }
   ],
   "source": [
    "import warnings\n",
    "warnings.filterwarnings(\"ignore\")\n",
    "rmse = np.sqrt(mean_squared_error(y_test, preds))\n",
    "scores = cross_val_score(xg_reg, X_train, y_train, cv =10)\n",
    "\n",
    "print('Mean Squared Error:', metrics.mean_squared_error(y_test, preds))\n",
    "print('Mean Absolute Error:', metrics.mean_absolute_error(y_test, preds))\n",
    "print('Root Mean Squared Error:', np.sqrt(metrics.mean_squared_error(y_test, preds)))\n",
    "print(\"Mean cross-validation score: %.4f\" % scores.mean())"
   ]
  },
  {
   "cell_type": "code",
   "execution_count": 54,
   "metadata": {},
   "outputs": [
    {
     "name": "stdout",
     "output_type": "stream",
     "text": [
      "[13:53:29] WARNING: C:/Jenkins/workspace/xgboost-win64_release_0.90/src/objective/regression_obj.cu:152: reg:linear is now deprecated in favor of reg:squarederror.\n",
      "[13:53:29] WARNING: C:/Jenkins/workspace/xgboost-win64_release_0.90/src/objective/regression_obj.cu:152: reg:linear is now deprecated in favor of reg:squarederror.\n",
      "[13:53:29] WARNING: C:/Jenkins/workspace/xgboost-win64_release_0.90/src/objective/regression_obj.cu:152: reg:linear is now deprecated in favor of reg:squarederror.\n",
      "[13:53:29] WARNING: C:/Jenkins/workspace/xgboost-win64_release_0.90/src/objective/regression_obj.cu:152: reg:linear is now deprecated in favor of reg:squarederror.\n",
      "[13:53:29] WARNING: C:/Jenkins/workspace/xgboost-win64_release_0.90/src/objective/regression_obj.cu:152: reg:linear is now deprecated in favor of reg:squarederror.\n",
      "[13:53:29] WARNING: C:/Jenkins/workspace/xgboost-win64_release_0.90/src/objective/regression_obj.cu:152: reg:linear is now deprecated in favor of reg:squarederror.\n",
      "[13:53:29] WARNING: C:/Jenkins/workspace/xgboost-win64_release_0.90/src/objective/regression_obj.cu:152: reg:linear is now deprecated in favor of reg:squarederror.\n",
      "[13:53:29] WARNING: C:/Jenkins/workspace/xgboost-win64_release_0.90/src/objective/regression_obj.cu:152: reg:linear is now deprecated in favor of reg:squarederror.\n",
      "[13:53:29] WARNING: C:/Jenkins/workspace/xgboost-win64_release_0.90/src/objective/regression_obj.cu:152: reg:linear is now deprecated in favor of reg:squarederror.\n",
      "[13:53:29] WARNING: C:/Jenkins/workspace/xgboost-win64_release_0.90/src/objective/regression_obj.cu:152: reg:linear is now deprecated in favor of reg:squarederror.\n"
     ]
    }
   ],
   "source": [
    "params = {\"objective\":\"reg:linear\",'colsample_bytree': 0.3,'learning_rate': 0.1,\n",
    "                'max_depth': 5, 'alpha': 10}\n",
    "\n",
    "cv_results = xgb.cv(dtrain=dtrain, params=params, nfold=10,\n",
    "                    num_boost_round=10000,early_stopping_rounds=20,metrics=\"rmse\", as_pandas=True, seed=123)"
   ]
  },
  {
   "cell_type": "code",
   "execution_count": 55,
   "metadata": {},
   "outputs": [
    {
     "data": {
      "text/html": [
       "<div>\n",
       "<style scoped>\n",
       "    .dataframe tbody tr th:only-of-type {\n",
       "        vertical-align: middle;\n",
       "    }\n",
       "\n",
       "    .dataframe tbody tr th {\n",
       "        vertical-align: top;\n",
       "    }\n",
       "\n",
       "    .dataframe thead th {\n",
       "        text-align: right;\n",
       "    }\n",
       "</style>\n",
       "<table border=\"1\" class=\"dataframe\">\n",
       "  <thead>\n",
       "    <tr style=\"text-align: right;\">\n",
       "      <th></th>\n",
       "      <th>train-rmse-mean</th>\n",
       "      <th>train-rmse-std</th>\n",
       "      <th>test-rmse-mean</th>\n",
       "      <th>test-rmse-std</th>\n",
       "    </tr>\n",
       "  </thead>\n",
       "  <tbody>\n",
       "    <tr>\n",
       "      <td>168</td>\n",
       "      <td>0.422209</td>\n",
       "      <td>0.006435</td>\n",
       "      <td>0.557093</td>\n",
       "      <td>0.051659</td>\n",
       "    </tr>\n",
       "    <tr>\n",
       "      <td>169</td>\n",
       "      <td>0.422174</td>\n",
       "      <td>0.006446</td>\n",
       "      <td>0.557119</td>\n",
       "      <td>0.051637</td>\n",
       "    </tr>\n",
       "    <tr>\n",
       "      <td>170</td>\n",
       "      <td>0.421974</td>\n",
       "      <td>0.006463</td>\n",
       "      <td>0.557052</td>\n",
       "      <td>0.051686</td>\n",
       "    </tr>\n",
       "    <tr>\n",
       "      <td>171</td>\n",
       "      <td>0.421928</td>\n",
       "      <td>0.006508</td>\n",
       "      <td>0.557061</td>\n",
       "      <td>0.051680</td>\n",
       "    </tr>\n",
       "    <tr>\n",
       "      <td>172</td>\n",
       "      <td>0.421882</td>\n",
       "      <td>0.006531</td>\n",
       "      <td>0.557062</td>\n",
       "      <td>0.051679</td>\n",
       "    </tr>\n",
       "    <tr>\n",
       "      <td>173</td>\n",
       "      <td>0.421768</td>\n",
       "      <td>0.006610</td>\n",
       "      <td>0.557011</td>\n",
       "      <td>0.051725</td>\n",
       "    </tr>\n",
       "    <tr>\n",
       "      <td>174</td>\n",
       "      <td>0.421768</td>\n",
       "      <td>0.006610</td>\n",
       "      <td>0.557011</td>\n",
       "      <td>0.051725</td>\n",
       "    </tr>\n",
       "    <tr>\n",
       "      <td>175</td>\n",
       "      <td>0.421768</td>\n",
       "      <td>0.006610</td>\n",
       "      <td>0.557011</td>\n",
       "      <td>0.051725</td>\n",
       "    </tr>\n",
       "    <tr>\n",
       "      <td>176</td>\n",
       "      <td>0.421702</td>\n",
       "      <td>0.006666</td>\n",
       "      <td>0.556979</td>\n",
       "      <td>0.051743</td>\n",
       "    </tr>\n",
       "    <tr>\n",
       "      <td>177</td>\n",
       "      <td>0.421637</td>\n",
       "      <td>0.006685</td>\n",
       "      <td>0.556933</td>\n",
       "      <td>0.051763</td>\n",
       "    </tr>\n",
       "  </tbody>\n",
       "</table>\n",
       "</div>"
      ],
      "text/plain": [
       "     train-rmse-mean  train-rmse-std  test-rmse-mean  test-rmse-std\n",
       "168         0.422209        0.006435        0.557093       0.051659\n",
       "169         0.422174        0.006446        0.557119       0.051637\n",
       "170         0.421974        0.006463        0.557052       0.051686\n",
       "171         0.421928        0.006508        0.557061       0.051680\n",
       "172         0.421882        0.006531        0.557062       0.051679\n",
       "173         0.421768        0.006610        0.557011       0.051725\n",
       "174         0.421768        0.006610        0.557011       0.051725\n",
       "175         0.421768        0.006610        0.557011       0.051725\n",
       "176         0.421702        0.006666        0.556979       0.051743\n",
       "177         0.421637        0.006685        0.556933       0.051763"
      ]
     },
     "execution_count": 55,
     "metadata": {},
     "output_type": "execute_result"
    }
   ],
   "source": [
    "cv_results.tail(10)"
   ]
  },
  {
   "cell_type": "code",
   "execution_count": 56,
   "metadata": {},
   "outputs": [
    {
     "name": "stdout",
     "output_type": "stream",
     "text": [
      "Root Mean Squared Error: 0.5569331\n"
     ]
    }
   ],
   "source": [
    "print('Root Mean Squared Error:', cv_results['test-rmse-mean'].min())"
   ]
  },
  {
   "cell_type": "code",
   "execution_count": 60,
   "metadata": {},
   "outputs": [
    {
     "data": {
      "image/png": "[encoded data removed]",
      "text/plain": [
       "<Figure size 1080x1440 with 1 Axes>"
      ]
     },
     "metadata": {
      "needs_background": "light"
     },
     "output_type": "display_data"
    }
   ],
   "source": [
    "import matplotlib.pyplot as plt\n",
    "xgb.plot_importance(xg_reg)\n",
    "plt.rcParams['figure.figsize'] = [15, 15]\n",
    "plt.show()"
   ]
  },
  {
   "cell_type": "code",
   "execution_count": null,
   "metadata": {},
   "outputs": [],
   "source": []
  }
 ],
 "metadata": {
  "kernelspec": {
   "display_name": "Python 3",
   "language": "python",
   "name": "python3"
  },
  "language_info": {
   "codemirror_mode": {
    "name": "ipython",
    "version": 3
   },
   "file_extension": ".py",
   "mimetype": "text/x-python",
   "name": "python",
   "nbconvert_exporter": "python",
   "pygments_lexer": "ipython3",
   "version": "3.7.4"
  }
 },
 "nbformat": 4,
 "nbformat_minor": 2
}
